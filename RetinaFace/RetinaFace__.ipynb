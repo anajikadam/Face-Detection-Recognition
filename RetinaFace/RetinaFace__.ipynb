{
 "cells": [
  {
   "cell_type": "code",
   "execution_count": null,
   "metadata": {
    "id": "V6kqFVnkKptH"
   },
   "outputs": [],
   "source": [
    "# https://github.com/serengil/retinaface"
   ]
  },
  {
   "cell_type": "code",
   "execution_count": 1,
   "metadata": {
    "id": "GcJx3v0iK0Di"
   },
   "outputs": [],
   "source": [
    "# !pip install retina-face -q"
   ]
  },
  {
   "cell_type": "code",
   "execution_count": 61,
   "metadata": {
    "id": "kfCgz9POLJxf"
   },
   "outputs": [],
   "source": [
    "from retinaface import RetinaFace\n",
    "import pandas as pd\n",
    "import numpy as np\n",
    "import cv2\n",
    "from PIL import Image, ImageOps\n",
    "import matplotlib.pyplot as plt\n",
    "# import mediapipe"
   ]
  },
  {
   "cell_type": "code",
   "execution_count": 2,
   "metadata": {
    "id": "5Yq7s5sMNVdn"
   },
   "outputs": [],
   "source": [
    "# !wget https://github.com/serengil/deepface_models/releases/download/v1.0/retinaface.h5\n",
    "# https://github.com/serengil/retinaface/blob/master/retinaface/model/retinaface_model.py"
   ]
  },
  {
   "cell_type": "code",
   "execution_count": 124,
   "metadata": {},
   "outputs": [],
   "source": [
    "def image_pro(input_path ):\n",
    "    image = Image.open(input_path)\n",
    "    image = image.convert(\"RGB\")\n",
    "    image = ImageOps.exif_transpose(image)\n",
    "    image.save( input_path )\n",
    "    image.close()\n",
    "    \n",
    "path = r\"Img/r111.JPG\"\n",
    "image_pro( path )"
   ]
  },
  {
   "cell_type": "code",
   "execution_count": null,
   "metadata": {},
   "outputs": [],
   "source": [
    "cv2.IMREAD_COLOR(fl)"
   ]
  },
  {
   "cell_type": "code",
   "execution_count": 103,
   "metadata": {},
   "outputs": [],
   "source": [
    "import skimage.io as skio"
   ]
  },
  {
   "cell_type": "code",
   "execution_count": null,
   "metadata": {},
   "outputs": [],
   "source": [
    "path = r\"Img/r11.jpg\"\n",
    "\n",
    "img = skio.imread( path,)\n",
    "img = cv2.cvtColor(img, cv2.COLOR_BGR2RGB)\n",
    "# skio.imsave(path, img)\n",
    "plt.imshow(img)"
   ]
  },
  {
   "cell_type": "code",
   "execution_count": null,
   "metadata": {},
   "outputs": [],
   "source": [
    "input_path = r\"Img/yr1.jpg\"\n",
    "image = Image.open(input_path)\n",
    "image = image.convert(\"RGB\")\n",
    "image = ImageOps.exif_transpose(image)\n",
    "image"
   ]
  },
  {
   "cell_type": "code",
   "execution_count": 121,
   "metadata": {},
   "outputs": [
    {
     "data": {
      "text/plain": [
       "array([[[123, 123, 121],\n",
       "        [123, 123, 121],\n",
       "        [124, 124, 122],\n",
       "        ...,\n",
       "        [171, 177, 167],\n",
       "        [172, 178, 168],\n",
       "        [173, 179, 169]],\n",
       "\n",
       "       [[124, 124, 122],\n",
       "        [125, 125, 123],\n",
       "        [125, 125, 123],\n",
       "        ...,\n",
       "        [172, 178, 168],\n",
       "        [172, 178, 168],\n",
       "        [173, 179, 169]],\n",
       "\n",
       "       [[125, 125, 123],\n",
       "        [126, 126, 124],\n",
       "        [126, 126, 124],\n",
       "        ...,\n",
       "        [171, 179, 166],\n",
       "        [170, 178, 165],\n",
       "        [171, 179, 168]],\n",
       "\n",
       "       ...,\n",
       "\n",
       "       [[118, 127, 136],\n",
       "        [120, 127, 137],\n",
       "        [122, 124, 136],\n",
       "        ...,\n",
       "        [248, 237, 245],\n",
       "        [211, 198, 207],\n",
       "        [148, 136, 148]],\n",
       "\n",
       "       [[120, 123, 132],\n",
       "        [134, 134, 144],\n",
       "        [140, 140, 150],\n",
       "        ...,\n",
       "        [244, 231, 238],\n",
       "        [226, 211, 218],\n",
       "        [185, 169, 180]],\n",
       "\n",
       "       [[128, 127, 135],\n",
       "        [138, 137, 145],\n",
       "        [156, 155, 163],\n",
       "        ...,\n",
       "        [242, 227, 234],\n",
       "        [241, 224, 232],\n",
       "        [220, 203, 213]]], dtype=uint8)"
      ]
     },
     "execution_count": 121,
     "metadata": {},
     "output_type": "execute_result"
    }
   ],
   "source": [
    "np.array(image)"
   ]
  },
  {
   "cell_type": "code",
   "execution_count": 122,
   "metadata": {},
   "outputs": [],
   "source": [
    "path = r\"Img/yr1.jpg\"\n",
    "image_pro(path )\n",
    "# img = cv2.imread( path,)#flags = cv2.IMREAD_COLOR)\n",
    "# img = Image.fromarray(img)\n",
    "# img.mode"
   ]
  },
  {
   "cell_type": "code",
   "execution_count": null,
   "metadata": {},
   "outputs": [],
   "source": [
    "img"
   ]
  },
  {
   "cell_type": "code",
   "execution_count": null,
   "metadata": {},
   "outputs": [],
   "source": [
    "path = r\"Img/y1.jpg\"\n",
    "img = cv2.imread( path,  flags = cv2.IMREAD_COLOR)\n",
    "img = cv2.cvtColor(img, cv2.COLOR_BGR2RGB)\n",
    "# img = img[:,:,::-1]\n",
    "plt.imshow(img)\n",
    "# cv2.imwrite(path, img)\n",
    "\n",
    "# plt.imshow(img[:,:,::-1])\n"
   ]
  },
  {
   "cell_type": "code",
   "execution_count": 45,
   "metadata": {
    "id": "-ac4eLaGLJur"
   },
   "outputs": [
    {
     "data": {
      "text/plain": [
       "{'face_1': {'score': 0.9994174242019653,\n",
       "  'facial_area': [277, 84, 586, 480],\n",
       "  'landmarks': {'right_eye': [361.62134, 260.9363],\n",
       "   'left_eye': [500.9148, 225.84695],\n",
       "   'nose': [456.0539, 330.66464],\n",
       "   'mouth_right': [416.7531, 410.3313],\n",
       "   'mouth_left': [517.5918, 379.3918]}}}"
      ]
     },
     "execution_count": 45,
     "metadata": {},
     "output_type": "execute_result"
    }
   ],
   "source": [
    "\n",
    "img_path1 = r\"Img/girl.jpg\"\n",
    "img_path1 = r\"Img/tm.jpg\"\n",
    "img_path1 = r\"Img/test1.jpg\"\n",
    "\n",
    "# model_path = r\"model/retinaface.h5\"\n",
    "# faces = RetinaFace.detect_faces(img_path = img_path1, threshold= 0.9, model = model_path)#, allow_upscaling=True)\n",
    "faces = RetinaFace.detect_faces(img_path = img_path1, threshold= 0.9)#, allow_upscaling=True)\n",
    "faces"
   ]
  },
  {
   "cell_type": "code",
   "execution_count": null,
   "metadata": {},
   "outputs": [],
   "source": [
    "plt.imshow(face)\n",
    "plt.show()"
   ]
  },
  {
   "cell_type": "code",
   "execution_count": 49,
   "metadata": {},
   "outputs": [
    {
     "data": {
      "text/plain": [
       "(396, 309, 3)"
      ]
     },
     "execution_count": 49,
     "metadata": {},
     "output_type": "execute_result"
    }
   ],
   "source": [
    "faces[0].shape"
   ]
  },
  {
   "cell_type": "code",
   "execution_count": null,
   "metadata": {},
   "outputs": [],
   "source": [
    "\n",
    "img_path1 = r\"Img/abc.jpg\"\n",
    "faces = RetinaFace.extract_faces(img_path = img_path1, align = True)\n",
    "for face in faces:\n",
    "  plt.imshow(face)\n",
    "  plt.show()"
   ]
  },
  {
   "cell_type": "code",
   "execution_count": null,
   "metadata": {},
   "outputs": [],
   "source": [
    "def load_image( path ):\n",
    "    img_base = cv2.imread( path )\n",
    "    img_proc = cv2.cvtColor(img_base, cv2.COLOR_BGR2RGB)\n",
    "    return img_proc"
   ]
  },
  {
   "cell_type": "code",
   "execution_count": null,
   "metadata": {},
   "outputs": [],
   "source": [
    "def find_max_score_face( faces ):\n",
    "    max_score = max( [faces[i]['score'] for i in faces] )\n",
    "    max_score_face = [i for i in faces if faces[i]['score'] == max_score ][0]\n",
    "    print( f\"{max_score_face} Detected with Max score:{max_score}\" ) \n",
    "    \n",
    "    return faces[max_score_face]\n",
    "\n",
    "find_max_score_face(faces)"
   ]
  },
  {
   "cell_type": "code",
   "execution_count": 4,
   "metadata": {
    "colab": {
     "base_uri": "https://localhost:8080/"
    },
    "id": "c0c9bEsOLRmf",
    "outputId": "e16985f4-4ef0-44c0-d7ad-6ab9cc4e50ec"
   },
   "outputs": [
    {
     "data": {
      "text/plain": [
       "{'face_1': {'score': 0.999669075012207,\n",
       "  'facial_area': [327, 169, 354, 200],\n",
       "  'landmarks': {'right_eye': [332.71582, 180.63556],\n",
       "   'left_eye': [345.1142, 179.45226],\n",
       "   'nose': [338.4994, 185.7995],\n",
       "   'mouth_right': [335.01413, 192.08913],\n",
       "   'mouth_left': [345.00833, 191.16403]}},\n",
       " 'face_2': {'score': 0.9994152784347534,\n",
       "  'facial_area': [188, 176, 206, 197],\n",
       "  'landmarks': {'right_eye': [193.64507, 184.7016],\n",
       "   'left_eye': [201.94823, 185.1375],\n",
       "   'nose': [197.67175, 188.8855],\n",
       "   'mouth_right': [194.17346, 192.55057],\n",
       "   'mouth_left': [200.80193, 192.88907]}},\n",
       " 'face_3': {'score': 0.9993340373039246,\n",
       "  'facial_area': [217, 185, 237, 210],\n",
       "  'landmarks': {'right_eye': [222.62921, 196.3689],\n",
       "   'left_eye': [232.22632, 195.59566],\n",
       "   'nose': [227.87656, 200.44383],\n",
       "   'mouth_right': [224.22148, 205.03983],\n",
       "   'mouth_left': [231.90923, 204.43347]}},\n",
       " 'face_4': {'score': 0.9992977380752563,\n",
       "  'facial_area': [232, 167, 249, 189],\n",
       "  'landmarks': {'right_eye': [238.01459, 176.23093],\n",
       "   'left_eye': [245.79924, 176.42706],\n",
       "   'nose': [242.31516, 179.61626],\n",
       "   'mouth_right': [238.70956, 183.68506],\n",
       "   'mouth_left': [245.35478, 183.85281]}},\n",
       " 'face_5': {'score': 0.9991496801376343,\n",
       "  'facial_area': [98, 175, 122, 202],\n",
       "  'landmarks': {'right_eye': [106.55949, 186.588],\n",
       "   'left_eye': [117.01916, 186.8984],\n",
       "   'nose': [112.51294, 191.91115],\n",
       "   'mouth_right': [107.37195, 196.1419],\n",
       "   'mouth_left': [115.88214, 196.41272]}},\n",
       " 'face_6': {'score': 0.9991389513015747,\n",
       "  'facial_area': [143, 167, 163, 191],\n",
       "  'landmarks': {'right_eye': [149.94383, 176.78967],\n",
       "   'left_eye': [159.25714, 177.22566],\n",
       "   'nose': [154.77855, 181.78479],\n",
       "   'mouth_right': [150.23166, 185.40427],\n",
       "   'mouth_left': [158.10336, 185.76778]}},\n",
       " 'face_7': {'score': 0.9987450838088989,\n",
       "  'facial_area': [451, 167, 473, 190],\n",
       "  'landmarks': {'right_eye': [454.74063, 175.7031],\n",
       "   'left_eye': [464.3338, 175.28403],\n",
       "   'nose': [458.18585, 179.7861],\n",
       "   'mouth_right': [455.7923, 184.61688],\n",
       "   'mouth_left': [463.50836, 184.29211]}},\n",
       " 'face_8': {'score': 0.9985402822494507,\n",
       "  'facial_area': [269, 173, 290, 200],\n",
       "  'landmarks': {'right_eye': [274.73795, 183.85089],\n",
       "   'left_eye': [284.39062, 183.47026],\n",
       "   'nose': [279.81607, 188.4704],\n",
       "   'mouth_right': [276.21857, 193.79274],\n",
       "   'mouth_left': [283.8957, 193.50917]}},\n",
       " 'face_9': {'score': 0.998480498790741,\n",
       "  'facial_area': [377, 169, 411, 208],\n",
       "  'landmarks': {'right_eye': [382.7274, 185.40668],\n",
       "   'left_eye': [397.13663, 182.3257],\n",
       "   'nose': [388.23138, 191.09842],\n",
       "   'mouth_right': [386.29422, 200.0961],\n",
       "   'mouth_left': [397.18985, 197.58304]}},\n",
       " 'face_10': {'score': 0.9980779886245728,\n",
       "  'facial_area': [360, 166, 380, 192],\n",
       "  'landmarks': {'right_eye': [364.4254, 177.364],\n",
       "   'left_eye': [373.57013, 175.80156],\n",
       "   'nose': [368.94922, 180.86671],\n",
       "   'mouth_right': [366.8624, 186.62389],\n",
       "   'mouth_left': [374.08826, 185.37086]}},\n",
       " 'face_11': {'score': 0.9972923398017883,\n",
       "  'facial_area': [256, 186, 273, 207],\n",
       "  'landmarks': {'right_eye': [261.2471, 194.56453],\n",
       "   'left_eye': [268.65884, 193.20978],\n",
       "   'nose': [265.6862, 197.92838],\n",
       "   'mouth_right': [263.4303, 202.75566],\n",
       "   'mouth_left': [269.2367, 201.7061]}},\n",
       " 'face_12': {'score': 0.996742308139801,\n",
       "  'facial_area': [305, 179, 326, 205],\n",
       "  'landmarks': {'right_eye': [309.31705, 191.95743],\n",
       "   'left_eye': [318.50986, 189.36293],\n",
       "   'nose': [314.50168, 194.23334],\n",
       "   'mouth_right': [312.9214, 200.41434],\n",
       "   'mouth_left': [320.03122, 198.37358]}},\n",
       " 'face_13': {'score': 0.9929009675979614,\n",
       "  'facial_area': [292, 168, 311, 190],\n",
       "  'landmarks': {'right_eye': [296.2502, 176.44202],\n",
       "   'left_eye': [304.14578, 176.57172],\n",
       "   'nose': [299.2597, 180.27264],\n",
       "   'mouth_right': [296.75317, 184.60359],\n",
       "   'mouth_left': [303.02823, 184.662]}},\n",
       " 'face_14': {'score': 0.9928722381591797,\n",
       "  'facial_area': [249, 168, 264, 185],\n",
       "  'landmarks': {'right_eye': [253.67767, 174.23003],\n",
       "   'left_eye': [260.44614, 174.93211],\n",
       "   'nose': [256.6624, 178.04887],\n",
       "   'mouth_right': [253.86018, 181.19801],\n",
       "   'mouth_left': [258.80164, 181.74857]}}}"
      ]
     },
     "execution_count": 4,
     "metadata": {},
     "output_type": "execute_result"
    }
   ],
   "source": [
    "faces"
   ]
  },
  {
   "cell_type": "code",
   "execution_count": 35,
   "metadata": {},
   "outputs": [
    {
     "name": "stdout",
     "output_type": "stream",
     "text": [
      "face_1 Detected with Max score:0.999669075012207\n"
     ]
    },
    {
     "data": {
      "text/plain": [
       "{'score': 0.999669075012207,\n",
       " 'facial_area': [327, 169, 354, 200],\n",
       " 'landmarks': {'right_eye': [332.71582, 180.63556],\n",
       "  'left_eye': [345.1142, 179.45226],\n",
       "  'nose': [338.4994, 185.7995],\n",
       "  'mouth_right': [335.01413, 192.08913],\n",
       "  'mouth_left': [345.00833, 191.16403]}}"
      ]
     },
     "execution_count": 35,
     "metadata": {},
     "output_type": "execute_result"
    }
   ],
   "source": [
    "def find_max_score_face( faces ):\n",
    "    max_score = max( [faces[i]['score'] for i in faces] )\n",
    "    max_score_face = [i for i in faces if faces[i]['score'] == max_score ][0]\n",
    "    print( f\"{max_score_face} Detected with Max score:{max_score}\" ) \n",
    "    \n",
    "    return faces[max_score_face]\n",
    "\n",
    "find_max_score_face(faces)"
   ]
  },
  {
   "cell_type": "code",
   "execution_count": null,
   "metadata": {},
   "outputs": [],
   "source": [
    "faces"
   ]
  },
  {
   "cell_type": "code",
   "execution_count": 21,
   "metadata": {},
   "outputs": [],
   "source": [
    "df = pd.DataFrame(faces).T"
   ]
  },
  {
   "cell_type": "code",
   "execution_count": 22,
   "metadata": {},
   "outputs": [
    {
     "data": {
      "text/html": [
       "<div>\n",
       "<style scoped>\n",
       "    .dataframe tbody tr th:only-of-type {\n",
       "        vertical-align: middle;\n",
       "    }\n",
       "\n",
       "    .dataframe tbody tr th {\n",
       "        vertical-align: top;\n",
       "    }\n",
       "\n",
       "    .dataframe thead th {\n",
       "        text-align: right;\n",
       "    }\n",
       "</style>\n",
       "<table border=\"1\" class=\"dataframe\">\n",
       "  <thead>\n",
       "    <tr style=\"text-align: right;\">\n",
       "      <th></th>\n",
       "      <th>score</th>\n",
       "      <th>facial_area</th>\n",
       "      <th>landmarks</th>\n",
       "    </tr>\n",
       "  </thead>\n",
       "  <tbody>\n",
       "    <tr>\n",
       "      <th>face_1</th>\n",
       "      <td>0.999669</td>\n",
       "      <td>[327, 169, 354, 200]</td>\n",
       "      <td>{'right_eye': [332.71582, 180.63556], 'left_ey...</td>\n",
       "    </tr>\n",
       "    <tr>\n",
       "      <th>face_2</th>\n",
       "      <td>0.999415</td>\n",
       "      <td>[188, 176, 206, 197]</td>\n",
       "      <td>{'right_eye': [193.64507, 184.7016], 'left_eye...</td>\n",
       "    </tr>\n",
       "    <tr>\n",
       "      <th>face_3</th>\n",
       "      <td>0.999334</td>\n",
       "      <td>[217, 185, 237, 210]</td>\n",
       "      <td>{'right_eye': [222.62921, 196.3689], 'left_eye...</td>\n",
       "    </tr>\n",
       "    <tr>\n",
       "      <th>face_4</th>\n",
       "      <td>0.999298</td>\n",
       "      <td>[232, 167, 249, 189]</td>\n",
       "      <td>{'right_eye': [238.01459, 176.23093], 'left_ey...</td>\n",
       "    </tr>\n",
       "    <tr>\n",
       "      <th>face_5</th>\n",
       "      <td>0.99915</td>\n",
       "      <td>[98, 175, 122, 202]</td>\n",
       "      <td>{'right_eye': [106.55949, 186.588], 'left_eye'...</td>\n",
       "    </tr>\n",
       "    <tr>\n",
       "      <th>face_6</th>\n",
       "      <td>0.999139</td>\n",
       "      <td>[143, 167, 163, 191]</td>\n",
       "      <td>{'right_eye': [149.94383, 176.78967], 'left_ey...</td>\n",
       "    </tr>\n",
       "    <tr>\n",
       "      <th>face_7</th>\n",
       "      <td>0.998745</td>\n",
       "      <td>[451, 167, 473, 190]</td>\n",
       "      <td>{'right_eye': [454.74063, 175.7031], 'left_eye...</td>\n",
       "    </tr>\n",
       "    <tr>\n",
       "      <th>face_8</th>\n",
       "      <td>0.99854</td>\n",
       "      <td>[269, 173, 290, 200]</td>\n",
       "      <td>{'right_eye': [274.73795, 183.85089], 'left_ey...</td>\n",
       "    </tr>\n",
       "    <tr>\n",
       "      <th>face_9</th>\n",
       "      <td>0.99848</td>\n",
       "      <td>[377, 169, 411, 208]</td>\n",
       "      <td>{'right_eye': [382.7274, 185.40668], 'left_eye...</td>\n",
       "    </tr>\n",
       "    <tr>\n",
       "      <th>face_10</th>\n",
       "      <td>0.998078</td>\n",
       "      <td>[360, 166, 380, 192]</td>\n",
       "      <td>{'right_eye': [364.4254, 177.364], 'left_eye':...</td>\n",
       "    </tr>\n",
       "    <tr>\n",
       "      <th>face_11</th>\n",
       "      <td>0.997292</td>\n",
       "      <td>[256, 186, 273, 207]</td>\n",
       "      <td>{'right_eye': [261.2471, 194.56453], 'left_eye...</td>\n",
       "    </tr>\n",
       "    <tr>\n",
       "      <th>face_12</th>\n",
       "      <td>0.996742</td>\n",
       "      <td>[305, 179, 326, 205]</td>\n",
       "      <td>{'right_eye': [309.31705, 191.95743], 'left_ey...</td>\n",
       "    </tr>\n",
       "    <tr>\n",
       "      <th>face_13</th>\n",
       "      <td>0.992901</td>\n",
       "      <td>[292, 168, 311, 190]</td>\n",
       "      <td>{'right_eye': [296.2502, 176.44202], 'left_eye...</td>\n",
       "    </tr>\n",
       "    <tr>\n",
       "      <th>face_14</th>\n",
       "      <td>0.992872</td>\n",
       "      <td>[249, 168, 264, 185]</td>\n",
       "      <td>{'right_eye': [253.67767, 174.23003], 'left_ey...</td>\n",
       "    </tr>\n",
       "  </tbody>\n",
       "</table>\n",
       "</div>"
      ],
      "text/plain": [
       "            score           facial_area  \\\n",
       "face_1   0.999669  [327, 169, 354, 200]   \n",
       "face_2   0.999415  [188, 176, 206, 197]   \n",
       "face_3   0.999334  [217, 185, 237, 210]   \n",
       "face_4   0.999298  [232, 167, 249, 189]   \n",
       "face_5    0.99915   [98, 175, 122, 202]   \n",
       "face_6   0.999139  [143, 167, 163, 191]   \n",
       "face_7   0.998745  [451, 167, 473, 190]   \n",
       "face_8    0.99854  [269, 173, 290, 200]   \n",
       "face_9    0.99848  [377, 169, 411, 208]   \n",
       "face_10  0.998078  [360, 166, 380, 192]   \n",
       "face_11  0.997292  [256, 186, 273, 207]   \n",
       "face_12  0.996742  [305, 179, 326, 205]   \n",
       "face_13  0.992901  [292, 168, 311, 190]   \n",
       "face_14  0.992872  [249, 168, 264, 185]   \n",
       "\n",
       "                                                 landmarks  \n",
       "face_1   {'right_eye': [332.71582, 180.63556], 'left_ey...  \n",
       "face_2   {'right_eye': [193.64507, 184.7016], 'left_eye...  \n",
       "face_3   {'right_eye': [222.62921, 196.3689], 'left_eye...  \n",
       "face_4   {'right_eye': [238.01459, 176.23093], 'left_ey...  \n",
       "face_5   {'right_eye': [106.55949, 186.588], 'left_eye'...  \n",
       "face_6   {'right_eye': [149.94383, 176.78967], 'left_ey...  \n",
       "face_7   {'right_eye': [454.74063, 175.7031], 'left_eye...  \n",
       "face_8   {'right_eye': [274.73795, 183.85089], 'left_ey...  \n",
       "face_9   {'right_eye': [382.7274, 185.40668], 'left_eye...  \n",
       "face_10  {'right_eye': [364.4254, 177.364], 'left_eye':...  \n",
       "face_11  {'right_eye': [261.2471, 194.56453], 'left_eye...  \n",
       "face_12  {'right_eye': [309.31705, 191.95743], 'left_ey...  \n",
       "face_13  {'right_eye': [296.2502, 176.44202], 'left_eye...  \n",
       "face_14  {'right_eye': [253.67767, 174.23003], 'left_ey...  "
      ]
     },
     "execution_count": 22,
     "metadata": {},
     "output_type": "execute_result"
    }
   ],
   "source": [
    "df"
   ]
  },
  {
   "cell_type": "code",
   "execution_count": 20,
   "metadata": {},
   "outputs": [
    {
     "data": {
      "text/plain": [
       "0.999669075012207"
      ]
     },
     "execution_count": 20,
     "metadata": {},
     "output_type": "execute_result"
    }
   ],
   "source": [
    "max(pd.DataFrame(faces).T['score'])"
   ]
  },
  {
   "cell_type": "code",
   "execution_count": 28,
   "metadata": {},
   "outputs": [
    {
     "data": {
      "text/plain": [
       "[13]"
      ]
     },
     "execution_count": 28,
     "metadata": {},
     "output_type": "execute_result"
    }
   ],
   "source": [
    "# df.columns.get_loc('Fee')\n",
    "indices = list(np.where(df[\"score\"]==min(df[\"score\"]))[0])\n",
    "indices"
   ]
  },
  {
   "cell_type": "code",
   "execution_count": 5,
   "metadata": {
    "colab": {
     "base_uri": "https://localhost:8080/"
    },
    "id": "YgMAnv4bLRjn",
    "outputId": "7ea13a89-5d72-4b93-d1c7-bea86ef79719"
   },
   "outputs": [
    {
     "data": {
      "text/plain": [
       "14"
      ]
     },
     "execution_count": 5,
     "metadata": {},
     "output_type": "execute_result"
    }
   ],
   "source": [
    "len(faces)"
   ]
  },
  {
   "cell_type": "code",
   "execution_count": 11,
   "metadata": {},
   "outputs": [],
   "source": [
    "def detect_faces( img_path ):\n",
    "    img = cv2.imread( img_path )\n",
    "    \n",
    "    faces = RetinaFace.detect_faces(img_path = img_path, threshold= 0.9)#, allow_upscaling=True)\n",
    "    \n",
    "    for i in faces:\n",
    "       facial_area = faces[i]['facial_area']\n",
    "       identity = faces[i]\n",
    "    \n",
    "       facial_area = identity[\"facial_area\"]\n",
    "       landmarks = identity[\"landmarks\"]\n",
    "    \n",
    "       cv2.rectangle(img, (facial_area[2], facial_area[3]), (facial_area[0], facial_area[1]), (255, 255, 255), 1)\n",
    "    \n",
    "       cv2.circle(img, tuple([int(i) for i in landmarks[\"right_eye\"]]), 1, (0, 0, 255), -1)\n",
    "       cv2.circle(img, tuple([int(i) for i in landmarks[\"left_eye\"]]), 1, (0, 0, 255), -1)\n",
    "       cv2.circle(img, tuple([int(i) for i in landmarks[\"nose\"]]), 1, (0, 0, 255), -1)\n",
    "       \n",
    "    img = img[:, :, ::-1]\n",
    "    plt.imshow(img)\n"
   ]
  },
  {
   "cell_type": "code",
   "execution_count": null,
   "metadata": {},
   "outputs": [],
   "source": [
    "img_path = r\"Img/tm.jpg\"\n",
    "detect_faces( img_path )"
   ]
  },
  {
   "cell_type": "code",
   "execution_count": null,
   "metadata": {
    "colab": {
     "base_uri": "https://localhost:8080/",
     "height": 453
    },
    "id": "YOiTbi6SQ6kJ",
    "outputId": "fcac99bd-1a2b-4916-deac-d0c1ab30f512"
   },
   "outputs": [],
   "source": [
    "img_path1 = r\"Img/tm.jpg\"\n",
    "path = img_path1\n",
    "img_base = cv2.imread( path )\n",
    "img = img_base.copy()\n",
    "plt.imshow(img[:, :, ::-1])"
   ]
  },
  {
   "cell_type": "code",
   "execution_count": null,
   "metadata": {},
   "outputs": [],
   "source": [
    "path = r\"Img/r11.jpg\"\n",
    "img = cv2.imread( path )\n",
    "# img = cv2.cvtColor(img, cv2.COLOR_BGR2RGB)\n",
    "\n",
    "# cv2.imwrite(path, img)\n",
    "\n",
    "plt.imshow(img[:,:,::-1])"
   ]
  },
  {
   "cell_type": "code",
   "execution_count": 21,
   "metadata": {},
   "outputs": [
    {
     "data": {
      "text/plain": [
       "(array([], shape=(0, 5), dtype=float64),\n",
       " array([], shape=(0, 5, 2), dtype=float64))"
      ]
     },
     "execution_count": 21,
     "metadata": {},
     "output_type": "execute_result"
    }
   ],
   "source": [
    "\n",
    "path = r\"Img/r11.jpg\"\n",
    "img = cv2.imread( path )\n",
    "\n",
    "faces = RetinaFace.detect_faces(img_path = path, threshold= 0.9)#, allow_upscaling=True)\n",
    "faces"
   ]
  },
  {
   "cell_type": "code",
   "execution_count": 22,
   "metadata": {},
   "outputs": [
    {
     "data": {
      "text/plain": [
       "[]"
      ]
     },
     "execution_count": 22,
     "metadata": {},
     "output_type": "execute_result"
    }
   ],
   "source": [
    "faces = RetinaFace.extract_faces(img_path = path, align = True)\n",
    "faces"
   ]
  },
  {
   "cell_type": "code",
   "execution_count": null,
   "metadata": {
    "colab": {
     "base_uri": "https://localhost:8080/",
     "height": 453
    },
    "id": "N2seGhW5Qrcb",
    "outputId": "ff161220-3bb1-4dc8-8421-2ac9657357ad"
   },
   "outputs": [],
   "source": [
    "\n",
    "path = r\"Img/r11.jpg\"\n",
    "img = cv2.imread( path )\n",
    "\n",
    "faces = RetinaFace.detect_faces(img_path = path, threshold= 0.9)#, allow_upscaling=True)\n",
    "\n",
    "for i in faces:\n",
    "   facial_area = faces[i]['facial_area']\n",
    "   identity = faces[i]\n",
    "\n",
    "   facial_area = identity[\"facial_area\"]\n",
    "   landmarks = identity[\"landmarks\"]\n",
    "\n",
    "   cv2.rectangle(img, (facial_area[2], facial_area[3]), (facial_area[0], facial_area[1]), (255, 255, 255), 1)\n",
    "\n",
    "   cv2.circle(img, tuple([int(i) for i in landmarks[\"right_eye\"]]), 1, (0, 0, 255), -1)\n",
    "   cv2.circle(img, tuple([int(i) for i in landmarks[\"left_eye\"]]), 1, (0, 0, 255), -1)\n",
    "   cv2.circle(img, tuple([int(i) for i in landmarks[\"nose\"]]), 1, (0, 0, 255), -1)\n",
    "   \n",
    "img = img[:, :, ::-1]\n",
    "plt.imshow(img)"
   ]
  },
  {
   "cell_type": "code",
   "execution_count": null,
   "metadata": {},
   "outputs": [],
   "source": [
    "right_eye = (int(landmarks[0].x * img.shape[1]), int(landmarks[0].y * img.shape[0]))\n",
    "left_eye = (int(landmarks[1].x * img.shape[1]), int(landmarks[1].y * img.shape[0]))\n",
    "nose = (int(landmarks[2].x * img.shape[1]), int(landmarks[2].y * img.shape[0]))\n",
    "mouth = (int(landmarks[3].x * img.shape[1]), int(landmarks[3].y * img.shape[0]))\n",
    "right_ear = (int(landmarks[4].x * img.shape[1]), int(landmarks[4].y * img.shape[0]))\n",
    "left_ear = (int(landmarks[5].x * img.shape[1]), int(landmarks[5].y * img.shape[0]))\n",
    " \n",
    "cv2.circle(img, right_eye, 15, (0, 0, 255), -1)\n",
    "cv2.circle(img, left_eye, 15, (0, 0, 255), -1)\n",
    "cv2.circle(img, nose, 15, (0, 0, 255), -1)\n",
    "cv2.circle(img, mouth, 15, (0, 0, 255), -1)\n",
    "cv2.circle(img, right_ear, 15, (0, 0, 255), -1)\n",
    "cv2.circle(img, left_ear, 15, (0, 0, 255), -1)"
   ]
  },
  {
   "cell_type": "code",
   "execution_count": null,
   "metadata": {
    "id": "Z2Oxehl9P7yj"
   },
   "outputs": [],
   "source": [
    "identity = faces[0]\n",
    "\n",
    "facial_area = identity[\"facial_area\"]\n",
    "landmarks = identity[\"landmarks\"]\n",
    "\n",
    "#highlight facial area\n",
    "cv2.rectangle(img, (facial_area[2], facial_area[3])\n",
    "   , (facial_area[0], facial_area[1]), (255, 255, 255), 1)\n",
    "\n",
    "#extract facial area\n",
    "#img = cv2.imread(img_path)\n",
    "#facial_img = img[facial_area[1]: facial_area[3], facial_area[0]: facial_area[2]]\n",
    "\n",
    "#highlight the landmarks\n",
    " cv2.circle(img, tuple(landmarks[\"left_eye\"]), 1, (0, 0, 255), -1)\n",
    " cv2.circle(img, tuple(landmarks[\"right_eye\"]), 1, (0, 0, 255), -1)\n",
    " cv2.circle(img, tuple(landmarks[\"nose\"]), 1, (0, 0, 255), -1)\n",
    " cv2.circle(img, tuple(landmarks[\"mouth_left\"]), 1, (0, 0, 255), -1)\n",
    " cv2.circle(img, tuple(landmarks[\"mouth_right\"]), 1, (0, 0, 255), -1)"
   ]
  },
  {
   "cell_type": "code",
   "execution_count": null,
   "metadata": {
    "id": "QXcUdd0OKz_S"
   },
   "outputs": [],
   "source": [
    "import matplotlib.pyplot as plt\n",
    "faces = RetinaFace.extract_faces(img_path = \"img.jpg\", align = True)\n",
    "for face in faces:\n",
    "  plt.imshow(face)\n",
    "  plt.show()"
   ]
  }
 ],
 "metadata": {
  "colab": {
   "provenance": []
  },
  "kernelspec": {
   "display_name": "Python 3 (ipykernel)",
   "language": "python",
   "name": "python3"
  },
  "language_info": {
   "codemirror_mode": {
    "name": "ipython",
    "version": 3
   },
   "file_extension": ".py",
   "mimetype": "text/x-python",
   "name": "python",
   "nbconvert_exporter": "python",
   "pygments_lexer": "ipython3",
   "version": "3.9.10"
  }
 },
 "nbformat": 4,
 "nbformat_minor": 4
}
