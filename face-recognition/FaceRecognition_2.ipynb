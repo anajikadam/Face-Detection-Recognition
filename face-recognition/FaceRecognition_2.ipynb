{
  "cells": [
    {
      "cell_type": "code",
      "source": [
        "# !pip install face-detection\n",
        "!pip install face-recognition"
      ],
      "metadata": {
        "id": "xsGztXN2bYpG"
      },
      "execution_count": null,
      "outputs": []
    },
    {
      "cell_type": "code",
      "execution_count": null,
      "source": [
        "import os\n",
        "import time\n",
        "\n",
        "import face_recognition as fc\n",
        "import pandas as pd\n",
        "import numpy as np\n",
        "import pandas as pd\n",
        "\n",
        "import cv2\n",
        "from datetime import datetime\n",
        "import matplotlib.pyplot as plt\n"
      ],
      "outputs": [],
      "metadata": {
        "id": "6V85eJ6ea-cX"
      }
    },
    {
      "cell_type": "code",
      "source": [
        "import cv2\n",
        "cv2.__version__"
      ],
      "metadata": {
        "colab": {
          "base_uri": "https://localhost:8080/",
          "height": 37
        },
        "id": "i3eSdLfGaWMm",
        "outputId": "56b87d8e-8820-4970-f6bd-988158241c28"
      },
      "execution_count": null,
      "outputs": [
        {
          "output_type": "execute_result",
          "data": {
            "text/plain": [
              "'4.8.0'"
            ],
            "application/vnd.google.colaboratory.intrinsic+json": {
              "type": "string"
            }
          },
          "metadata": {},
          "execution_count": 4
        }
      ]
    },
    {
      "cell_type": "code",
      "source": [
        "fisherfaces_recognizer = cv2.face.FisherFaceRecognizer_create()"
      ],
      "metadata": {
        "id": "QU_cy-L7ammE"
      },
      "execution_count": null,
      "outputs": []
    },
    {
      "cell_type": "code",
      "source": [
        "import face_recognition as fc\n",
        "import cv2\n",
        "from PIL import Image, ImageOps\n",
        "\n",
        "# path = r\"G:\\Face Recognition with Real-Time\\Uploads\\22082313.PNG\"\n",
        "# path = \"abc.jpg\"\n",
        "\n",
        "def resize_image_with_aspect_ratio(input_path ):\n",
        "    new_width = 512\n",
        "    # Open the image\n",
        "    image = Image.open(input_path)\n",
        "    image = image.convert(\"RGB\")\n",
        "    image = ImageOps.exif_transpose(image)\n",
        "    # Calculate the new height while maintaining the aspect ratio\n",
        "    aspect_ratio = image.width / image.height\n",
        "    new_height = int(new_width / aspect_ratio)\n",
        "    # Resize the image\n",
        "    #print(new_width, new_height)\n",
        "    resized_image = image.resize((new_width, new_height), Image.LANCZOS)\n",
        "    #print(resized_image.width, resized_image.height)\n",
        "    # Save the resized image\n",
        "    resized_image.save(input_path)\n",
        "    image.close()\n",
        "    resized_image.close()\n",
        "\n",
        "\n",
        "# resize_image_with_aspect_ratio(path)\n",
        "# # img_rgb = cv2.cvtColor(img, cv2.COLOR_BGR2RGB)\n",
        "# img = fc.load_image_file(path,)\n",
        "# img_rgb = cv2.cvtColor(img, cv2.COLOR_BGR2RGB)\n",
        "# face_locations = fc.face_locations(img_rgb)  # top, right, bottom, left\n",
        "# print(face_locations)\n",
        "# top, right, bottom, left = face_locations[0]\n",
        "# # Draw a box around the face\n",
        "# #cv2.rectangle(img, (left, top), (right, bottom), (0, 0, 255), 2)\n",
        "# crop_img = img_rgb[top:bottom, left:right]\n",
        "# # cv2.imwrite('test_crop111.png', crop_img)\n",
        "\n",
        "def crop_face(path ):\n",
        "    resize_image_with_aspect_ratio(path)\n",
        "    img = fc.load_image_file(path,)\n",
        "    img_rgb = cv2.cvtColor(img, cv2.COLOR_BGR2RGB)\n",
        "    # face_locations = fc.face_locations(img_rgb)  # top, right, bottom, left\n",
        "    face_locations = fc.face_locations(img_rgb, model='cnn')  # top, right, bottom, left\n",
        "    print(face_locations)\n",
        "    top, right, bottom, left = face_locations[0]\n",
        "    bf = 10\n",
        "    crop_img = img_rgb[top-bf:bottom+bf, left-bf:right+bf]\n",
        "    cv2.imwrite(path, crop_img)\n",
        "\n",
        "\n",
        "# def crop_face(path ):\n",
        "#     try:\n",
        "#         img = fc.load_image_file(path,)\n",
        "#         img_rgb = cv2.cvtColor(img, cv2.COLOR_BGR2RGB)\n",
        "#         face_locations = fc.face_locations(img_rgb, model='cnn')  # top, right, bottom, left\n",
        "#         print(face_locations)\n",
        "#         top, right, bottom, left = face_locations[0]\n",
        "#         crop_img = img_rgb[top:bottom, left:right]\n",
        "#         cv2.imwrite(path, crop_img)\n",
        "#     except IndexError:\n",
        "#         print(\"I wasn't able to locate any faces in at least one of the images. Check the image files. Aborting...\")\n",
        "#     return []\n",
        "\n",
        "def cosine_similarity(x, y):\n",
        "    # Ensure length of x and y are the same\n",
        "    if len(x) != len(y) :\n",
        "        return None\n",
        "    # Compute the dot product between x and y\n",
        "    dot_product = np.dot(x, y)\n",
        "    # Compute the L2 norms (magnitudes) of x and y\n",
        "    magnitude_x = np.sqrt(np.sum(x**2))\n",
        "    magnitude_y = np.sqrt(np.sum(y**2))\n",
        "    # Compute the cosine similarity\n",
        "    cosine_similarity = dot_product / (magnitude_x * magnitude_y)\n",
        "    return cosine_similarity\n",
        "\n",
        "def face_recg(path1, path2):\n",
        "    resize_image_with_aspect_ratio(path1)\n",
        "    resize_image_with_aspect_ratio(path2)\n",
        "    img1 = fc.load_image_file(path1)\n",
        "    img2 = fc.load_image_file(path2)\n",
        "\n",
        "    try:\n",
        "        face1_encoding = fc.face_encodings(img1)[0]\n",
        "        face2_encoding = fc.face_encodings(img2)[0]\n",
        "    except IndexError:\n",
        "        print(\"I wasn't able to locate any faces in at least one of the images. Check the image files. Aborting...\")\n",
        "        quit()\n",
        "    # print(type(face1_encoding))\n",
        "    # print(face1_encoding.size)\n",
        "    known_faces = [\n",
        "        face1_encoding\n",
        "    ]\n",
        "\n",
        "    results = fc.compare_faces(known_faces, face2_encoding)#, tolerance=0.9)\n",
        "    result_d = fc.face_distance(known_faces, face2_encoding)\n",
        "    cos_sim = cosine_similarity(face1_encoding, face2_encoding)\n",
        "    print(results, result_d,cos_sim)\n",
        "    return results, result_d, cos_sim\n",
        "\n",
        "path1 = r\"sr1.jpg\"\n",
        "# path1 = r\"/content/Aug-24-2023_144312_16928683502452460466187369681226.jpg\"\n",
        "# path2 = r\"tr4.jpg\"\n",
        "path2 = r\"sr1.jpg\"\n",
        "# path2 = r\"/content/Test_Aug-24-2023_144752_16928686507227915680679528260450.jpg\"\n",
        "# crop_face(path1 )\n",
        "# crop_face(path2 )\n",
        "face_recg(path1, path2)\n",
        "\n",
        "# ([True], array([0.]), 1.0000000000000002)\n",
        "# tr1 [True] [0.32488453]  ([True], array([0.32488754]), 0.9735737473115196)\n",
        "# tr2 [True] [0.32974219]  ([True], array([0.32983972]), 0.9725573603079064)\n",
        "# tr3 [True] [0.18561478]\n",
        "# tr4 [True] [0.49410122]  ([True], array([0.44762168]), 0.9488536058700675)\n",
        "# tr4 [True] [0.44762167]\n",
        "\n",
        "# ## Define scale factor and window size\n",
        "# scale_factor = 1.1\n",
        "# sz1 = img_rgb.shape[1] * 2\n",
        "# sz2 = img_rgb.shape[0] * 2\n",
        "# cv2.destroyAllWindows()"
      ],
      "metadata": {
        "colab": {
          "base_uri": "https://localhost:8080/"
        },
        "id": "C3bBj1t_bQuK",
        "outputId": "43a3ae06-17e6-4528-85a1-f5e8f084530a"
      },
      "execution_count": null,
      "outputs": [
        {
          "output_type": "stream",
          "name": "stdout",
          "text": [
            "[True] [0.] 1.0000000000000002\n"
          ]
        },
        {
          "output_type": "execute_result",
          "data": {
            "text/plain": [
              "([True], array([0.]), 1.0000000000000002)"
            ]
          },
          "metadata": {},
          "execution_count": 32
        }
      ]
    },
    {
      "cell_type": "code",
      "source": [
        "def face_recg(path1, path2):\n",
        "    img1 = fc.load_image_file(path1)\n",
        "    img2 = fc.load_image_file(path2)\n",
        "    face1_encoding = fc.face_encodings(img1)[0]\n",
        "    face2_encoding = fc.face_encodings(img2)[0]\n",
        "    return face1_encoding, face2_encoding\n",
        "\n",
        "path1 = r\"sr1.jpg\"\n",
        "# path1 = r\"/content/Aug-24-2023_144312_16928683502452460466187369681226.jpg\"\n",
        "# path2 = r\"tr4.jpg\"\n",
        "path2 = r\"tr2.jpg\"\n",
        "# path2 = r\"/content/Test_Aug-24-2023_144752_16928686507227915680679528260450.jpg\"\n",
        "# crop_face(path1 )\n",
        "# crop_face(path2 )\n",
        "X, Y = face_recg(path1, path2)"
      ],
      "metadata": {
        "id": "fUgxA1sfh7q2"
      },
      "execution_count": null,
      "outputs": []
    },
    {
      "cell_type": "code",
      "source": [
        "from sklearn.metrics.pairwise import cosine_similarity\n"
      ],
      "metadata": {
        "id": "XSZ5TtLGhvnb"
      },
      "execution_count": null,
      "outputs": []
    },
    {
      "cell_type": "code",
      "source": [
        "cosine_similarity(X, Y)"
      ],
      "metadata": {
        "colab": {
          "base_uri": "https://localhost:8080/"
        },
        "id": "64vdvuayjPwv",
        "outputId": "263370a9-d077-4f94-9c92-710508a6a69b"
      },
      "execution_count": null,
      "outputs": [
        {
          "output_type": "execute_result",
          "data": {
            "text/plain": [
              "0.9725573603079064"
            ]
          },
          "metadata": {},
          "execution_count": 24
        }
      ]
    },
    {
      "cell_type": "code",
      "source": [
        "cosine_similarity(X.reshape(-1, 1) , Y.reshape(-1, 1) )"
      ],
      "metadata": {
        "colab": {
          "base_uri": "https://localhost:8080/"
        },
        "id": "Ltt_2PI8h2W1",
        "outputId": "c3c88fcc-84b8-4a5d-d128-5712ad3238b2"
      },
      "execution_count": null,
      "outputs": [
        {
          "output_type": "execute_result",
          "data": {
            "text/plain": [
              "array([[ 1., -1., -1., ...,  1., -1., -1.],\n",
              "       [-1.,  1.,  1., ..., -1.,  1.,  1.],\n",
              "       [-1.,  1.,  1., ..., -1.,  1.,  1.],\n",
              "       ...,\n",
              "       [ 1., -1., -1., ...,  1., -1., -1.],\n",
              "       [-1.,  1.,  1., ..., -1.,  1.,  1.],\n",
              "       [-1.,  1.,  1., ..., -1.,  1.,  1.]])"
            ]
          },
          "metadata": {},
          "execution_count": 22
        }
      ]
    },
    {
      "cell_type": "code",
      "execution_count": null,
      "source": [
        "[(0, 512, 461, 4)]\n",
        "[(0, 512, 474, 4)]\n",
        "[True] [0.23486162]\n",
        "([True], array([0.23486162]))\n",
        "\n",
        "[(341, 365, 563, 142)]\n",
        "[(365, 340, 588, 117)]\n",
        "[True] [0.18561548]\n",
        "([True], array([0.18561548]))\n",
        "\n",
        "[True] [0.12790275]\n",
        "([True], array([0.12790275]))\n",
        "\n",
        "[(341, 365, 563, 142)]\n",
        "[(365, 340, 588, 117)]\n",
        "[True] [0.19324067]\n",
        "([True], array([0.19324067]))"
      ],
      "outputs": [
        {
          "output_type": "stream",
          "name": "stdout",
          "text": [
            "Hello\n"
          ]
        }
      ],
      "metadata": {
        "id": "9PmQJ4oDa-ci",
        "outputId": "30145016-d4d5-45b3-f685-4b608065506f"
      }
    },
    {
      "cell_type": "code",
      "execution_count": null,
      "source": [
        "def faceCrop(path, fileName):\n",
        "    img = fc.load_image_file(path)\n",
        "    height, width, channels = img.shape\n",
        "    imgtrain = cv2.cvtColor(img,cv2.COLOR_BGR2RGB)\n",
        "    faceLoc = fc.face_locations(imgtrain)  # find face location : top, right, bottom, left\n",
        "    if len(faceLoc)!=0:\n",
        "        for i, face in enumerate(faceLoc):\n",
        "            top, right, bottom, left = face\n",
        "            cv2.rectangle(imgtrain,(left, top), (right, bottom), (255,0,255), 2)\n",
        "            img1= imgtrain[top:bottom, left:right]\n",
        "            cv2.imwrite(r'Data/KnownFaces/{}.png'.format(fileName), img1)\n",
        "            print(\"Data/KnownFaces/{}.png File Saved...!\".format(fileName))\n",
        "    else:\n",
        "        print(\"No Face Detected.........!\")\n",
        "\n",
        "path2 = r\"Data/Database/\"\n",
        "for file1 in os.listdir(path=path2):\n",
        "    fileName = file1.split('.')[0]\n",
        "    filePath = (path2+file1)\n",
        "    print(fileName, filePath)\n",
        "    faceCrop(filePath, fileName)\n",
        "    print(\"====\"*10)"
      ],
      "outputs": [
        {
          "output_type": "stream",
          "name": "stdout",
          "text": [
            "Anaji Data/Database/Anaji.png\n",
            "Data/KnownFaces/Anaji.png File Saved...!\n",
            "========================================\n",
            "elon Data/Database/elon.jpg\n",
            "Data/KnownFaces/elon.png File Saved...!\n",
            "========================================\n",
            "Gates Data/Database/Gates.PNG\n",
            "Data/KnownFaces/Gates.png File Saved...!\n",
            "========================================\n",
            "ileana Data/Database/ileana.PNG\n",
            "Data/KnownFaces/ileana.png File Saved...!\n",
            "========================================\n",
            "markZ Data/Database/markZ.PNG\n",
            "Data/KnownFaces/markZ.png File Saved...!\n",
            "========================================\n",
            "MS_Dhoni Data/Database/MS_Dhoni.PNG\n",
            "Data/KnownFaces/MS_Dhoni.png File Saved...!\n",
            "========================================\n",
            "RSharma Data/Database/RSharma.PNG\n",
            "Data/KnownFaces/RSharma.png File Saved...!\n",
            "========================================\n",
            "Sachin Data/Database/Sachin.PNG\n",
            "Data/KnownFaces/Sachin.png File Saved...!\n",
            "========================================\n",
            "saina Data/Database/saina.PNG\n",
            "Data/KnownFaces/saina.png File Saved...!\n",
            "========================================\n",
            "Vakram Data/Database/Vakram.jpg\n",
            "Data/KnownFaces/Vakram.png File Saved...!\n",
            "========================================\n",
            "VKohli Data/Database/VKohli.PNG\n",
            "Data/KnownFaces/VKohli.png File Saved...!\n",
            "========================================\n"
          ]
        }
      ],
      "metadata": {
        "id": "918uCzc5a-cm",
        "outputId": "3c1c2d48-dc73-430b-a9c2-1ebc3681125c"
      }
    },
    {
      "cell_type": "code",
      "execution_count": null,
      "source": [
        "path1=\"Data/KnownFaces/\"\n",
        "FaceList = os.listdir(path=path1)\n",
        "faceDict = {}\n",
        "for face in FaceList:\n",
        "    imagePath = path1 + face\n",
        "    faceName = face.split('.')[0]\n",
        "    print(faceName, imagePath)\n",
        "    image = fc.load_image_file(imagePath)\n",
        "    list_of_face_encodings = fc.face_encodings(image)[0].tolist()\n",
        "    d = {faceName:list_of_face_encodings}\n",
        "    faceDict.update(d)\n",
        "    print(\"====\"*10)"
      ],
      "outputs": [
        {
          "output_type": "stream",
          "name": "stdout",
          "text": [
            "Anaji Data/KnownFaces/Anaji.png\n",
            "========================================\n",
            "Elon Data/KnownFaces/Elon.png\n",
            "========================================\n",
            "Gates Data/KnownFaces/Gates.png\n",
            "========================================\n",
            "ileana Data/KnownFaces/ileana.png\n",
            "========================================\n",
            "markZ Data/KnownFaces/markZ.png\n",
            "========================================\n",
            "MS_Dhoni Data/KnownFaces/MS_Dhoni.png\n",
            "========================================\n",
            "RSharma Data/KnownFaces/RSharma.png\n",
            "========================================\n",
            "Sachin Data/KnownFaces/Sachin.png\n",
            "========================================\n",
            "saina Data/KnownFaces/saina.png\n",
            "========================================\n",
            "Vakram Data/KnownFaces/Vakram.png\n",
            "========================================\n",
            "VKohli Data/KnownFaces/VKohli.png\n",
            "========================================\n"
          ]
        }
      ],
      "metadata": {
        "id": "CN8ptUt-a-cp",
        "outputId": "2701428e-9ef6-4523-ce61-bb91db722508"
      }
    },
    {
      "cell_type": "code",
      "execution_count": null,
      "source": [
        "type(faceDict['Anaji'])"
      ],
      "outputs": [
        {
          "output_type": "execute_result",
          "data": {
            "text/plain": [
              "list"
            ]
          },
          "metadata": {},
          "execution_count": 44
        }
      ],
      "metadata": {
        "id": "QKjRUBWOa-cq",
        "outputId": "f5d3617d-cb0c-4fc3-903a-9f92e82e5649"
      }
    },
    {
      "cell_type": "code",
      "execution_count": null,
      "source": [
        "df = pd.DataFrame({'Name': list(faceDict.keys()), 'Face': list(faceDict.values()) })\n",
        "df.to_csv(\"Faces.csv\", index=False)"
      ],
      "outputs": [],
      "metadata": {
        "id": "SuHaBIb1a-cs"
      }
    },
    {
      "cell_type": "code",
      "execution_count": null,
      "source": [
        "data = pd.read_csv(\"Faces.csv\")\n",
        "# convert str of face list to list\n",
        "data['Face'] = data['Face'].apply(lambda x: [float(i) for i in str(x).replace('[','').replace(']','').split(',')])\n",
        "data\n",
        "# faceDict1 = dict(data.values)"
      ],
      "outputs": [
        {
          "output_type": "execute_result",
          "data": {
            "text/html": [
              "<div>\n",
              "<style scoped>\n",
              "    .dataframe tbody tr th:only-of-type {\n",
              "        vertical-align: middle;\n",
              "    }\n",
              "\n",
              "    .dataframe tbody tr th {\n",
              "        vertical-align: top;\n",
              "    }\n",
              "\n",
              "    .dataframe thead th {\n",
              "        text-align: right;\n",
              "    }\n",
              "</style>\n",
              "<table border=\"1\" class=\"dataframe\">\n",
              "  <thead>\n",
              "    <tr style=\"text-align: right;\">\n",
              "      <th></th>\n",
              "      <th>Name</th>\n",
              "      <th>Face</th>\n",
              "    </tr>\n",
              "  </thead>\n",
              "  <tbody>\n",
              "    <tr>\n",
              "      <th>0</th>\n",
              "      <td>Anaji</td>\n",
              "      <td>[-0.14317795634269714, 0.12560126185417175, 0....</td>\n",
              "    </tr>\n",
              "    <tr>\n",
              "      <th>1</th>\n",
              "      <td>Elon</td>\n",
              "      <td>[-0.0401449091732502, 0.1372707337141037, 0.10...</td>\n",
              "    </tr>\n",
              "    <tr>\n",
              "      <th>2</th>\n",
              "      <td>Gates</td>\n",
              "      <td>[-0.07573618739843369, 0.12341505289077759, 0....</td>\n",
              "    </tr>\n",
              "    <tr>\n",
              "      <th>3</th>\n",
              "      <td>ileana</td>\n",
              "      <td>[-0.10046437382698059, 0.06360708922147751, 0....</td>\n",
              "    </tr>\n",
              "    <tr>\n",
              "      <th>4</th>\n",
              "      <td>markZ</td>\n",
              "      <td>[-0.12861347198486328, 0.08913566917181015, 0....</td>\n",
              "    </tr>\n",
              "    <tr>\n",
              "      <th>5</th>\n",
              "      <td>MS_Dhoni</td>\n",
              "      <td>[-0.10831966996192932, 0.1396937370300293, -0....</td>\n",
              "    </tr>\n",
              "    <tr>\n",
              "      <th>6</th>\n",
              "      <td>RSharma</td>\n",
              "      <td>[-0.18626195192337036, 0.16763843595981598, 0....</td>\n",
              "    </tr>\n",
              "    <tr>\n",
              "      <th>7</th>\n",
              "      <td>Sachin</td>\n",
              "      <td>[-0.12558405101299286, 0.16654400527477264, 0....</td>\n",
              "    </tr>\n",
              "    <tr>\n",
              "      <th>8</th>\n",
              "      <td>saina</td>\n",
              "      <td>[-0.1805238425731659, 0.08624035120010376, -0....</td>\n",
              "    </tr>\n",
              "    <tr>\n",
              "      <th>9</th>\n",
              "      <td>Vakram</td>\n",
              "      <td>[-0.11915665864944458, 0.09548917412757874, 0....</td>\n",
              "    </tr>\n",
              "    <tr>\n",
              "      <th>10</th>\n",
              "      <td>VKohli</td>\n",
              "      <td>[-0.1263091266155243, 0.04340400546789169, 0.0...</td>\n",
              "    </tr>\n",
              "  </tbody>\n",
              "</table>\n",
              "</div>"
            ],
            "text/plain": [
              "        Name                                               Face\n",
              "0      Anaji  [-0.14317795634269714, 0.12560126185417175, 0....\n",
              "1       Elon  [-0.0401449091732502, 0.1372707337141037, 0.10...\n",
              "2      Gates  [-0.07573618739843369, 0.12341505289077759, 0....\n",
              "3     ileana  [-0.10046437382698059, 0.06360708922147751, 0....\n",
              "4      markZ  [-0.12861347198486328, 0.08913566917181015, 0....\n",
              "5   MS_Dhoni  [-0.10831966996192932, 0.1396937370300293, -0....\n",
              "6    RSharma  [-0.18626195192337036, 0.16763843595981598, 0....\n",
              "7     Sachin  [-0.12558405101299286, 0.16654400527477264, 0....\n",
              "8      saina  [-0.1805238425731659, 0.08624035120010376, -0....\n",
              "9     Vakram  [-0.11915665864944458, 0.09548917412757874, 0....\n",
              "10    VKohli  [-0.1263091266155243, 0.04340400546789169, 0.0..."
            ]
          },
          "metadata": {},
          "execution_count": 67
        }
      ],
      "metadata": {
        "id": "qDx5eAQaa-ct",
        "outputId": "ae9b1528-a050-4f0a-b478-57b21e9f0bc3"
      }
    },
    {
      "cell_type": "code",
      "execution_count": null,
      "source": [
        "faceDict1 = dict(data.values)\n",
        "faceDict1.keys()"
      ],
      "outputs": [
        {
          "output_type": "execute_result",
          "data": {
            "text/plain": [
              "dict_keys(['Anaji', 'Elon', 'Gates', 'ileana', 'markZ', 'MS_Dhoni', 'RSharma', 'Sachin', 'saina', 'Vakram', 'VKohli'])"
            ]
          },
          "metadata": {},
          "execution_count": 64
        }
      ],
      "metadata": {
        "id": "IK0abz92a-cu",
        "outputId": "f6b1d4a8-5f28-4cc4-9c8a-1759b43f129a"
      }
    },
    {
      "cell_type": "code",
      "execution_count": null,
      "source": [
        "faceDict = dict(data.values)\n",
        "faceDict.keys()"
      ],
      "outputs": [
        {
          "output_type": "execute_result",
          "data": {
            "text/plain": [
              "dict_keys(['Anaji', 'Elon', 'Gates', 'ileana', 'markZ', 'MS_Dhoni', 'RSharma', 'Sachin', 'saina', 'Vakram', 'VKohli'])"
            ]
          },
          "metadata": {},
          "execution_count": 15
        }
      ],
      "metadata": {
        "id": "G9prutcxa-cw",
        "outputId": "816dc1a5-e6a4-4e65-9957-e3e404978f45"
      }
    },
    {
      "cell_type": "code",
      "execution_count": null,
      "source": [
        "data0 = r\"Data/b1.png\"\n",
        "image = fc.load_image_file(data0)\n",
        "a_single_unknown_face_encoding = fc.face_encodings(image)[0]"
      ],
      "outputs": [],
      "metadata": {
        "id": "4oOn4aaoa-cy"
      }
    },
    {
      "cell_type": "code",
      "execution_count": null,
      "source": [
        "data = pd.read_csv(\"Faces.csv\")\n",
        "faceDict1 = dict(data.values)"
      ],
      "outputs": [],
      "metadata": {
        "id": "B-fIFARKa-cz"
      }
    },
    {
      "cell_type": "code",
      "execution_count": null,
      "source": [
        "\n",
        "def findFace(path, faceDict):\n",
        "    name = \"Unknown\"\n",
        "    image = fc.load_image_file(path)\n",
        "    a_single_unknown_face_encoding = fc.face_encodings(image)[0]\n",
        "    simFacesDict = {}\n",
        "    for key, value in faceDict.items():\n",
        "        # results is an array of True/False telling if the unknown face matched anyone in the known_faces array\n",
        "        results = fc.compare_faces([value], a_single_unknown_face_encoding)\n",
        "        faceDist = fc.face_distance([value],  a_single_unknown_face_encoding)\n",
        "        # print(key, results, faceDist)\n",
        "        if results[np.argmin(faceDist)]:\n",
        "            name = key.upper()\n",
        "            #print(name+' Min Dist: ', faceDist)\n",
        "            simFacesDict.update({name:faceDist[0]})\n",
        "            print(simFacesDict)\n",
        "            name = min(simFacesDict, key=simFacesDict.get) # min faceDist value for key as name\n",
        "    return name\n",
        "\n",
        "\n",
        "path3 = r\"Data/b6.png\"\n",
        "FaceName = findFace(path3, faceDict1)\n",
        "print(FaceName)"
      ],
      "outputs": [
        {
          "output_type": "stream",
          "name": "stdout",
          "text": [
            "{'ANAJI': 0.31089964881048987}\n",
            "{'ANAJI': 0.31089964881048987, 'RSHARMA': 0.5191132279931173}\n",
            "ANAJI\n"
          ]
        }
      ],
      "metadata": {
        "id": "T2p2VxVXa-cz",
        "outputId": "f62cda23-462b-4dc9-d85e-28d748e3e26b"
      }
    },
    {
      "cell_type": "code",
      "execution_count": null,
      "source": [
        "data = pd.read_csv(\"Faces.csv\")\n",
        "faceDict1 = dict(data.values)\n",
        "faceDict1"
      ],
      "outputs": [
        {
          "output_type": "execute_result",
          "data": {
            "text/plain": [
              "{'Anaji': '[-0.14317795634269714, 0.12560126185417175, 0.07938181608915329, -0.029624052345752716, -0.0078119016252458096, -0.05251020938158035, -0.010109351947903633, -0.041051603853702545, 0.13995082676410675, -0.14323848485946655, 0.11312869936227798, -0.0011372929438948631, -0.20672231912612915, -0.1126590296626091, -0.06284423172473907, 0.1083897054195404, -0.12340664863586426, -0.18308810889720917, -0.05587679147720337, -0.10010656714439392, 0.0239274762570858, 0.016393952071666718, -0.01282759290188551, 0.032076723873615265, -0.12593531608581543, -0.32516294717788696, -0.05231849476695061, -0.11252112686634064, -0.008849617093801498, -0.07065476477146149, -0.04851358383893967, 0.06456179916858673, -0.1567656546831131, -0.021522603929042816, -0.02760770544409752, 0.13849543035030365, 0.015177878551185131, 0.01765967160463333, 0.1342286914587021, 0.03758079558610916, -0.09808851778507233, -0.006087951362133026, -0.021208355203270912, 0.3680529296398163, 0.09835518896579742, 0.030812686309218407, 0.026391906663775444, 0.0050481390208005905, 0.09107992053031921, -0.19001542031764984, 0.009766295552253723, 0.13386355340480804, 0.07916795462369919, 0.025468941777944565, 0.12272163480520248, -0.1055435761809349, 0.06134919822216034, -0.002573201432824135, -0.2171081155538559, 0.06699524074792862, 0.015499996952712536, -0.09930408746004105, -0.07172176241874695, -0.04703816771507263, 0.1943015605211258, 0.08592167496681213, -0.07939387112855911, -0.11118952184915543, 0.17437972128391266, -0.19622772932052612, 0.0077973888255655766, 0.03187749534845352, -0.05554380267858505, -0.12042940407991409, -0.2162037044763565, 0.061218488961458206, 0.39489591121673584, 0.24476686120033264, -0.11492305994033813, 0.08505454659461975, -0.051902592182159424, -0.05537066236138344, 0.11214577406644821, 0.07482364028692245, -0.13354426622390747, 0.13801780343055725, -0.11355963349342346, 0.09789656102657318, 0.10092587769031525, 0.047946736216545105, -0.08231978118419647, 0.11943897604942322, 0.009568531066179276, 0.0244403388351202, 0.046555131673812866, -0.07569785416126251, -0.11144747585058212, 0.014508102089166641, -0.1260012835264206, 0.006711015477776527, 0.0550275593996048, -0.12198735773563385, -0.0006542508490383625, 0.05197533220052719, -0.06719868630170822, 0.06993358582258224, -0.013366226106882095, -0.02664399892091751, -0.0723889097571373, 0.1213996410369873, -0.16914531588554382, -0.05964939668774605, 0.08766640722751617, -0.23227240145206451, 0.12731239199638367, 0.18103262782096863, -0.010852426290512085, 0.12740099430084229, 0.09194338321685791, 0.042649149894714355, 0.008166966959834099, -0.019258130341768265, -0.09561190754175186, -0.1205921471118927, 0.04996063560247421, 0.0024024900048971176, 0.12952427566051483, 0.021216001361608505]',\n",
              " 'Elon': '[-0.0401449091732502, 0.1372707337141037, 0.1048678532242775, -0.03343762084841728, -0.1431865096092224, -0.0003242664970457554, -0.0333397313952446, -0.11378858983516693, 0.17827031016349792, -0.09057077765464783, 0.2698557674884796, -0.054248448461294174, -0.20060910284519196, -0.0402458980679512, 0.00966824684292078, 0.09103848785161972, -0.14633651077747345, -0.13965767621994019, -0.010585119016468525, -0.07829888164997101, 0.12616661190986633, 0.056209929287433624, -0.041442275047302246, -0.04118354246020317, -0.11641865223646164, -0.3274758458137512, -0.0778551772236824, -0.0343632809817791, 0.1602720320224762, -0.09210933744907379, -0.0013820528984069824, 0.04095323756337166, -0.18422336876392365, -0.0724763423204422, 0.04324456304311752, 0.05698167905211449, -0.07571511715650558, -0.04420490935444832, 0.15072250366210938, -0.030449483543634415, -0.2139277458190918, 0.0031401184387505054, 0.0012216456234455109, 0.2136949598789215, 0.17437413334846497, 0.034193649888038635, 0.031087595969438553, -0.11730700731277466, 0.058754634112119675, -0.21635492146015167, 0.06414139270782471, 0.17165690660476685, 0.12190081179141998, 0.009351007640361786, 0.15401004254817963, -0.20944881439208984, -0.0559532530605793, 0.1454121619462967, -0.1363956779241562, 0.12712205946445465, 0.09140943735837936, -0.10459055751562119, 0.018591437488794327, -0.06354191154241562, 0.140241801738739, -0.012758910655975342, -0.0609634667634964, -0.16072595119476318, 0.22985699772834778, -0.07556013017892838, -0.07333923876285553, 0.140161395072937, -0.06383925676345825, -0.19569367170333862, -0.27680322527885437, 0.018842440098524094, 0.4291015863418579, 0.059889040887355804, -0.22760817408561707, 0.023614242672920227, -0.025038842111825943, 0.0045698899775743484, 0.11818193644285202, 0.028351983055472374, -0.03176935762166977, -0.07044728100299835, -0.17049042880535126, -0.014086063951253891, 0.21669051051139832, -0.05509009212255478, -0.024393528699874878, 0.2089238315820694, -0.04246416687965393, 0.024759549647569656, 0.037632621824741364, 0.0922953262925148, -0.10075079649686813, 0.024694595485925674, -0.1327972710132599, -0.07121440768241882, 0.07116955518722534, -0.14624693989753723, -0.0749017596244812, 0.17577007412910461, -0.20368535816669464, 0.14152967929840088, -0.011691243387758732, -0.006531897932291031, -0.05246016010642052, -0.05937323719263077, -0.07607284188270569, 0.05044981837272644, 0.20053382217884064, -0.3059631288051605, 0.21925348043441772, 0.2006366103887558, 0.002300537656992674, 0.1547079086303711, 0.05842697620391846, 0.005633240565657616, 0.04214288666844368, -0.1306832879781723, -0.20708680152893066, -0.11579408496618271, -0.04578621685504913, -0.06950260698795319, -0.050736986100673676, 0.0539676770567894]',\n",
              " 'Gates': '[-0.07573618739843369, 0.12341505289077759, 0.04244647175073624, -0.059874244034290314, -0.18685893714427948, -0.03167907893657684, -0.07550589740276337, -0.10135883837938309, 0.13370244204998016, -0.05046522617340088, 0.21025033295154572, 0.02800178714096546, -0.23545938730239868, -0.01699206978082657, -0.027567509561777115, 0.08761215209960938, -0.19291852414608002, -0.07693225145339966, -0.1396717131137848, -0.10707379877567291, -0.014427753165364265, -0.015358026139438152, 0.028931405395269394, -0.002007089089602232, -0.14352701604366302, -0.17211101949214935, -0.10562188923358917, -0.09071710705757141, 0.14714589715003967, -0.07866023480892181, 0.021081604063510895, 0.08502919971942902, -0.15524603426456451, -0.12284214794635773, 0.042257100343704224, 0.1578778475522995, -0.05522448942065239, -0.036272965371608734, 0.17444150149822235, -0.025191251188516617, -0.12813234329223633, 0.013500773347914219, 0.04566778242588043, 0.26195573806762695, 0.24147295951843262, 0.035423219203948975, 0.06793957948684692, -0.06491001695394516, 0.08164821565151215, -0.2615167200565338, 0.03826417773962021, 0.14878025650978088, 0.13829770684242249, 0.07134167850017548, 0.10103844851255417, -0.21515819430351257, 0.07843147963285446, 0.19822688400745392, -0.13456620275974274, 0.10413876920938492, 0.12726104259490967, -0.16616913676261902, -0.019976258277893066, -0.0383903943002224, 0.19611749053001404, 0.09469921886920929, -0.053093452006578445, -0.16255073249340057, 0.23243774473667145, -0.1441720575094223, -0.09688367694616318, 0.11801709979772568, -0.09137503802776337, -0.07799555361270905, -0.3108231723308563, -0.04232506453990936, 0.4146856367588043, 0.17615728080272675, -0.13420329988002777, 0.01425943337380886, -0.0906052514910698, -0.03224039077758789, -0.018162745982408524, 0.020310213789343834, -0.13953763246536255, -0.05367966741323471, -0.14861410856246948, 0.028005830943584442, 0.20742064714431763, -0.03659188747406006, 0.062116798013448715, 0.1863740235567093, 0.06409808993339539, -0.009065753780305386, 0.03455357626080513, -0.010961324907839298, -0.13020117580890656, -0.05559426173567772, -0.11447866261005402, -0.06008711829781532, 0.053154006600379944, -0.19777347147464752, 0.0345454066991806, 0.11914481967687607, -0.19800817966461182, 0.12500149011611938, -0.052962109446525574, -0.01201368123292923, -0.04969733953475952, -0.058061692863702774, -0.030438125133514404, 0.05666744336485863, 0.2961452901363373, -0.23734746873378754, 0.19852155447006226, 0.24182380735874176, 0.005831706337630749, 0.08095838129520416, 0.11868543922901154, 0.09332357347011566, -0.043259620666503906, -0.03997194394469261, -0.1458069086074829, -0.10299842804670334, -0.07618793845176697, -0.12198803573846817, 0.026367060840129852, 0.0888151228427887]',\n",
              " 'ileana': '[-0.10046437382698059, 0.06360708922147751, 0.11079011112451553, -0.11843268573284149, -0.10309828072786331, -0.03834476321935654, -0.09607290476560593, -0.09217405319213867, 0.20024611055850983, -0.21619634330272675, 0.1037273183465004, -0.02221367321908474, -0.1727389097213745, 0.07468815892934799, -0.03201345354318619, 0.22040697932243347, -0.22572173178195953, -0.20960812270641327, -0.018760420382022858, -0.03670862317085266, 0.042175520211458206, 0.0758027508854866, -0.05803990364074707, 0.08652663975954056, -0.15490879118442535, -0.3748757839202881, -0.09020980447530746, 0.029114387929439545, 0.0008743498474359512, -0.022122681140899658, -0.035774119198322296, 0.08760789781808853, -0.2072409838438034, 0.05090121924877167, 0.04282069951295853, 0.12385926395654678, 0.017259566113352776, -0.11902283877134323, 0.13928847014904022, 0.10917597264051437, -0.22640804946422577, -0.02183123119175434, 0.12869742512702942, 0.19527122378349304, 0.2015218883752823, 0.031329553574323654, 0.058198969811201096, -0.130339115858078, 0.10348343849182129, -0.3554486334323883, 0.05609887093305588, 0.1475735902786255, 0.06387397646903992, 0.07876422256231308, 0.10840928554534912, -0.22500917315483093, 0.01004081591963768, 0.02514534443616867, -0.16303950548171997, 0.06756134331226349, 0.06691019982099533, 0.013973945751786232, -0.024829242378473282, -0.09989519417285919, 0.2113315314054489, 0.158906489610672, -0.09276941418647766, -0.16195955872535706, 0.2672681212425232, -0.19583623111248016, -0.1285679042339325, -0.016986001282930374, -0.07093062251806259, -0.1874367892742157, -0.2901846468448639, -0.046162135899066925, 0.3286578059196472, 0.2470950484275818, -0.15622662007808685, 0.1240740492939949, -0.010431847535073757, -0.0416560024023056, 0.005706003401428461, 0.14941926300525665, -0.05092836916446686, 0.052662841975688934, -0.005663800053298473, 0.08944600820541382, 0.25364071130752563, 0.062096867710351944, 0.0146031454205513, 0.2522839307785034, 0.029503535479307175, 0.04503390192985535, 0.013492198660969734, 0.029160570353269577, -0.10222882032394409, -0.010024506598711014, -0.20588210225105286, -0.039225295186042786, -0.02120727300643921, 0.05605079233646393, 0.006751602049916983, 0.2118832916021347, -0.21862094104290009, 0.22605490684509277, -0.06580768525600433, -0.10277373343706131, -0.047882869839668274, 0.09588918089866638, -0.09054498374462128, -0.00450634490698576, 0.105464406311512, -0.18413563072681427, 0.12827211618423462, 0.19190055131912231, 0.03957843780517578, 0.148048534989357, 0.060225583612918854, 0.08843459188938141, 0.07196690142154694, -0.04265827685594559, -0.20432260632514954, -0.0884324237704277, 0.0009762877598404884, -0.12326184660196304, -0.003524361178278923, 0.11240296065807343]',\n",
              " 'markZ': '[-0.12861347198486328, 0.08913566917181015, 0.045517198741436005, -0.06924693286418915, -0.1416776180267334, 0.043791040778160095, -0.06058066338300705, -0.03404504433274269, 0.053298842161893845, -0.10327940434217453, 0.17803017795085907, 0.01174767967313528, -0.16945534944534302, -0.011798692867159843, 0.04749857634305954, 0.1809832900762558, -0.10617981106042862, -0.15804053843021393, -0.20069710910320282, -0.08761043101549149, -0.004837453365325928, 0.060242511332035065, -0.05096108466386795, 0.008340011350810528, -0.2017628699541092, -0.268596351146698, -0.014385632239282131, 0.0174290519207716, 0.07183912396430969, -0.046179961413145065, -0.08279222249984741, 0.037339504808187485, -0.17788192629814148, -0.0021458305418491364, 0.020526446402072906, 0.11726400256156921, -0.07336720079183578, -0.0768398568034172, 0.11931732296943665, 0.016610221937298775, -0.2178005427122116, 0.08142350614070892, 0.0013609575107693672, 0.27296730875968933, 0.28383007645606995, -0.001800940022803843, 0.07874153554439545, -0.05180010944604874, 0.10241508483886719, -0.2865431606769562, 0.06684118509292603, 0.06246616691350937, 0.08982065320014954, 0.0714353621006012, -0.013096061535179615, -0.16372016072273254, -0.02896256558597088, 0.21360275149345398, -0.17407706379890442, 0.01580820418894291, 0.024462532252073288, -0.12793202698230743, -0.03151288256049156, -0.14214713871479034, 0.21710088849067688, 0.15618179738521576, -0.11166135221719742, -0.19452154636383057, 0.24102334678173065, -0.1363738775253296, -0.043562911450862885, 0.02234601601958275, -0.08004897832870483, -0.1176203116774559, -0.3162785470485687, 0.04516707360744476, 0.340472012758255, 0.11156997084617615, -0.1802033931016922, 0.011898386292159557, -0.03528621792793274, 0.02858729101717472, 0.037096649408340454, 0.04741017520427704, -0.06876006722450256, -0.09476292878389359, -0.05915557220578194, 0.01714233309030533, 0.30969080328941345, -0.021329935640096664, 0.004890323616564274, 0.1941647231578827, 0.09653326123952866, -0.06796310842037201, 0.05395255982875824, 0.0729873925447464, -0.07480207085609436, -0.0014795539900660515, -0.06080872565507889, 0.06122278794646263, -0.06086438149213791, -0.1616610288619995, 0.027143994346261024, 0.16362610459327698, -0.1608751118183136, 0.28070712089538574, -0.03251846879720688, 0.08067084103822708, 0.0241775531321764, 0.013414019718766212, -0.03571354225277901, -0.07182511687278748, 0.13935483992099762, -0.23878327012062073, 0.12179466336965561, 0.23078563809394836, 0.07432568073272705, 0.1423005759716034, 0.06425739079713821, 0.11076373606920242, -0.0028152959421277046, 0.08057346940040588, -0.2621909976005554, -0.046168070286512375, 0.048502638936042786, -0.09834068268537521, -0.0017898241057991982, 0.17950692772865295]',\n",
              " 'MS_Dhoni': '[-0.10831966996192932, 0.1396937370300293, -0.009415699169039726, -0.037283025681972504, -0.1445159614086151, -0.02140718698501587, -0.08320565521717072, -0.08733636885881424, 0.17379125952720642, -0.039207614958286285, 0.23860973119735718, 0.034886717796325684, -0.17627213895320892, -0.08206246793270111, -0.1053762212395668, 0.14568811655044556, -0.042019717395305634, -0.19263190031051636, -0.03683176264166832, -0.08969178050756454, -0.021567493677139282, -0.026272309944033623, 0.01424551010131836, 0.09222999960184097, -0.17332038283348083, -0.2216283529996872, -0.05770470201969147, -0.09812559187412262, 0.03025008738040924, -0.14265187084674835, -0.1312236338853836, -0.004724052734673023, -0.23647035658359528, -0.10584758222103119, 0.0019103260710835457, 0.09348516911268234, 0.028011659160256386, 0.012514958158135414, 0.17144304513931274, 0.05663492530584335, -0.11282406002283096, 0.00011084787547588348, 0.022352434694767, 0.3174375593662262, 0.15915365517139435, 0.025946373119950294, 0.023034103214740753, -0.012711737304925919, 0.04454746097326279, -0.2779602110385895, 0.16831892728805542, 0.08642935007810593, 0.1730348765850067, 0.01711689494550228, 0.05037574842572212, -0.16808612644672394, -0.02583039179444313, 0.1344882994890213, -0.12690353393554688, 0.10629723966121674, 0.027032673358917236, 0.03531491011381149, -0.06557068973779678, -0.06169475242495537, 0.3121998608112335, 0.21133343875408173, -0.07661221921443939, -0.058563727885484695, 0.17879989743232727, -0.13312101364135742, -0.030318036675453186, 0.008892577141523361, -0.0588420070707798, -0.13305766880512238, -0.2964209020137787, 0.08055141568183899, 0.35984498262405396, 0.1907486766576767, -0.2750700116157532, -0.00980954710394144, -0.06366077810525894, 0.04498601332306862, 0.05356799438595772, -0.05980825424194336, -0.12504681944847107, 0.042612284421920776, -0.1374901384115219, 0.005313947796821594, 0.22479301691055298, 0.017121387645602226, -0.026564862579107285, 0.19605973362922668, 0.028577890247106552, 0.036450088024139404, 0.0896231010556221, 0.06857182085514069, -0.05401270464062691, -0.07081171870231628, -0.1200074851512909, 0.024811578914523125, 0.011501742526888847, -0.08921389281749725, -0.0222872756421566, 0.13185405731201172, -0.1717156320810318, 0.03887953981757164, -0.008531455881893635, -0.043061260133981705, -0.07058782875537872, 0.12041132152080536, -0.08896801620721817, -0.1273086965084076, 0.14075471460819244, -0.2015383541584015, 0.21556654572486877, 0.148060604929924, -0.03495430201292038, 0.1197347640991211, 0.061138782650232315, 0.05634728819131851, 0.011833986267447472, -0.025546642020344734, -0.02600378915667534, -0.09616729617118835, 0.02672375924885273, -0.14126405119895935, 0.06938791275024414, 0.11239234358072281]',\n",
              " 'RSharma': '[-0.18626195192337036, 0.16763843595981598, 0.0640801340341568, -0.0627971813082695, -0.058447856456041336, 0.01819552108645439, 0.07042302936315536, -0.04668272286653519, 0.2189996987581253, -0.03677332401275635, 0.16345688700675964, -0.016101382672786713, -0.25197234749794006, -0.12308797985315323, -0.04131097346544266, 0.15141338109970093, -0.1608058363199234, -0.1736014038324356, -0.05106433480978012, -0.12494037300348282, 0.08837801218032837, 0.03426049277186394, -0.01025533489882946, 0.03901495784521103, -0.11985136568546295, -0.3470662832260132, -0.02449241280555725, -0.16721613705158234, -0.014817235991358757, -0.12192163616418839, -0.005776442587375641, -0.035565152764320374, -0.22587785124778748, -0.09347347915172577, -0.03621988743543625, 0.11472028493881226, 0.017537886276841164, -0.026208708062767982, 0.1053997129201889, 0.01119699515402317, -0.09384237229824066, -0.08555806428194046, 0.04748003929853439, 0.3000364303588867, 0.12692861258983612, 0.036490995436906815, -0.021795032545924187, 0.0155583955347538, 0.11587156355381012, -0.25838109850883484, 0.10903570055961609, 0.10506051778793335, 0.09360112249851227, 0.053914301097393036, 0.12945795059204102, -0.12383807450532913, 0.009562281891703606, 0.0032933689653873444, -0.2121124565601349, 0.005341025535017252, 0.06661494821310043, -0.017571602016687393, -0.0907549038529396, -0.0662001520395279, 0.21496474742889404, 0.10718205571174622, -0.06392500549554825, -0.07675141096115112, 0.14937150478363037, -0.12539418041706085, -0.017837557941675186, -0.05618945136666298, -0.10150133073329926, -0.10277945548295975, -0.2716674506664276, 0.10186339914798737, 0.40588653087615967, 0.17712387442588806, -0.13486993312835693, 0.052352890372276306, -0.11747390031814575, 0.02602226287126541, 0.04059414565563202, -0.0012263446114957333, -0.07741190493106842, 0.149087592959404, -0.11605941504240036, 0.1138390600681305, 0.05369964614510536, -0.015250440686941147, -0.052775539457798004, 0.17323343455791473, -0.042011719197034836, 0.01188470795750618, 0.05944807082414627, -0.013260839506983757, -0.10067683458328247, 0.013551410287618637, -0.1343715339899063, -0.01690511405467987, 0.08374711126089096, -0.053458064794540405, 0.020886706188321114, 0.06487486511468887, -0.15293142199516296, 0.06277935206890106, 0.016613377258181572, -0.01718154549598694, -0.07772745192050934, 0.02961726486682892, -0.15562455356121063, -0.043263472616672516, 0.11565818637609482, -0.1857312023639679, 0.1865377277135849, 0.13421322405338287, -0.09061651676893234, 0.16327914595603943, 0.0478392094373703, 0.04790192097425461, 0.00921546295285225, -0.02987200766801834, -0.09912139177322388, -0.083315409719944, 0.06917819380760193, 0.01895216666162014, 0.07109072804450989, 0.06526236981153488]',\n",
              " 'Sachin': '[-0.12558405101299286, 0.16654400527477264, 0.03904997929930687, -0.06130863353610039, -0.10724972933530807, 0.04025862738490105, -0.028920508921146393, -0.03098520264029503, 0.1683838814496994, -0.041270121932029724, 0.307991087436676, -0.02515331655740738, -0.24079112708568573, -0.16495093703269958, -0.10205960273742676, 0.1364978402853012, -0.12487713992595673, -0.07015214115381241, -0.0983259305357933, -0.0539320707321167, -0.018224230036139488, -0.007119653280824423, 0.054689548909664154, -0.022050777450203896, -0.052807703614234924, -0.41456857323646545, -0.09493086487054825, -0.0696486309170723, 0.13999637961387634, -0.11610177159309387, 0.0009130975231528282, 0.026232600212097168, -0.18484742939472198, -0.09292717278003693, -0.003428541123867035, 0.07207494229078293, -0.02430037222802639, 0.02608703076839447, 0.18416064977645874, 0.0081257289275527, -0.1070263460278511, -0.002795114181935787, 0.044997893273830414, 0.34403306245803833, 0.20623432099819183, 0.11177615821361542, 0.05647923797369003, -0.01255758199840784, 0.017147144302725792, -0.2152886837720871, 0.09581217169761658, 0.12248517572879791, 0.18605174124240875, 0.015029598958790302, 0.1034272313117981, -0.09030793607234955, -0.03227495774626732, 0.13657338917255402, -0.24245424568653107, 0.03009256348013878, 0.0786699652671814, -0.011072488501667976, -0.1000346913933754, -0.08069226890802383, 0.31443607807159424, 0.11864238977432251, -0.16507451236248016, -0.1453583687543869, 0.20575672388076782, -0.17434312403202057, 0.037846434861421585, 0.06611444801092148, -0.054029833525419235, -0.1360582560300827, -0.2613784670829773, 0.12184418737888336, 0.4200041890144348, 0.24484187364578247, -0.14797599613666534, 0.016213856637477875, -0.09644456952810287, -0.055324994027614594, 0.008706029504537582, 0.02756102941930294, -0.1273564100265503, 0.026684679090976715, -0.07768083363771439, 0.002422688528895378, 0.08592406660318375, 0.014822358265519142, -0.05023245885968208, 0.17513501644134521, 0.012761054560542107, -0.003923999145627022, -0.009754727594554424, -0.03243687003850937, -0.10030300915241241, -0.015000224113464355, -0.10923556983470917, -0.010092869400978088, -0.015966292470693588, -0.09959059208631516, 0.03566567599773407, 0.03229852393269539, -0.12168747931718826, 0.17097502946853638, -0.027803853154182434, -0.017033550888299942, -0.03397880122065544, 0.006173565983772278, -0.06990993022918701, -0.007983602583408356, 0.17454636096954346, -0.34535276889801025, 0.20831729471683502, 0.14053039252758026, 0.03745878487825394, 0.1674240529537201, 0.14020247757434845, 0.0892886146903038, 0.05776430666446686, -0.030663883313536644, -0.07135700434446335, -0.13906455039978027, -0.01281652320176363, -0.15715345740318298, 0.16709016263484955, 0.03868141025304794]',\n",
              " 'saina': '[-0.1805238425731659, 0.08624035120010376, -0.015026132576167583, -0.05205223709344864, -0.04088160768151283, -0.001573407556861639, -0.013436488807201385, -0.1460261344909668, 0.165035679936409, -0.13614588975906372, 0.17136314511299133, -0.03172769770026207, -0.3180099129676819, -0.016389181837439537, -0.12632553279399872, 0.1163916289806366, -0.1500188559293747, -0.1773824393749237, 0.011050550267100334, -0.040924206376075745, 0.08332104235887527, -0.0890536978840828, -0.029773417860269547, 0.1630021035671234, -0.11332181096076965, -0.30523884296417236, -0.07096391916275024, -0.12327636778354645, -0.06167341023683548, -0.07158614695072174, -0.06791969388723373, -0.004550325684249401, -0.2326555997133255, 0.016671933233737946, -0.08080388605594635, 0.07611095160245895, 0.02104663848876953, -0.047860242426395416, 0.19720466434955597, 0.019153539091348648, -0.20717385411262512, -0.014059172943234444, 0.0864357203245163, 0.22224190831184387, 0.22407028079032898, -0.008297290652990341, 0.018046222627162933, -0.07789012789726257, 0.1870606243610382, -0.33657366037368774, 0.01713506132364273, 0.16361252963542938, 0.12455593049526215, 0.043642111122608185, 0.008288748562335968, -0.22743315994739532, -0.04973670095205307, 0.09747770428657532, -0.15741419792175293, 0.10836539417505264, -0.013664557598531246, -0.0708591416478157, -0.026808008551597595, -0.0395093597471714, 0.2839434742927551, 0.17389868199825287, -0.1816539764404297, -0.04865890368819237, 0.2800971567630768, -0.20470654964447021, 0.014704219996929169, 0.06761366128921509, -0.09765228629112244, -0.2484273463487625, -0.22455860674381256, 0.10035534203052521, 0.42441055178642273, 0.1992240995168686, -0.08585214614868164, 0.11316614598035812, -0.18157459795475006, 0.002452537417411804, -0.011414510197937489, 0.13536401093006134, -0.04904622957110405, 0.05033944919705391, -0.07651092112064362, 0.051728978753089905, 0.22433173656463623, 0.04941212385892868, -0.003448100294917822, 0.2710026502609253, -0.03380681574344635, 0.08366652578115463, 0.04937630891799927, 0.11551244556903839, -0.1364944875240326, -0.0796164721250534, -0.14143064618110657, -0.0019237548112869263, -0.058854591101408005, -0.10149425268173218, 0.022719819098711014, 0.08019817620515823, -0.18265247344970703, 0.07605393975973129, -0.0510607548058033, -0.011370206251740456, -0.0515579991042614, 0.01632107049226761, -0.02135073021054268, 0.01613968424499035, 0.07877784222364426, -0.2869889736175537, 0.2164420336484909, 0.08965149521827698, 0.036656126379966736, 0.17927926778793335, 0.059789083898067474, 0.045310281217098236, 0.04642922431230545, -0.1140974760055542, -0.14898759126663208, -0.0669824481010437, 0.06785544753074646, -0.059486329555511475, 0.07452170550823212, 0.02130257710814476]',\n",
              " 'Vakram': '[-0.11915665864944458, 0.09548917412757874, 0.023771310225129128, -0.06970769166946411, -0.06143127754330635, -0.029631832614541054, -0.05778326094150543, -0.11527062207460403, 0.11777380108833313, -0.06440518796443939, 0.19468557834625244, -0.014063602313399315, -0.1740751564502716, -0.14073656499385834, 0.02963860146701336, 0.09782744944095612, -0.0804704949259758, -0.20484372973442078, -0.06543412059545517, -0.07278656214475632, -0.043438635766506195, -0.01412617601454258, 0.04113644361495972, 0.04342485964298248, -0.13764649629592896, -0.4375186264514923, -0.048832088708877563, -0.07205172628164291, 0.07225068658590317, -0.1039668396115303, -0.024338068440556526, 0.034098848700523376, -0.2542044222354889, -0.010110488161444664, 0.023561324924230576, 0.1375928521156311, 0.011010928079485893, 0.01174596045166254, 0.1563519686460495, -0.004063275642693043, -0.1607511192560196, -0.03665316104888916, -0.022210195660591125, 0.2616922855377197, 0.1835717409849167, 0.10361967980861664, 0.0774000883102417, -0.004227901808917522, 0.05354755371809006, -0.20538677275180817, 0.15085293352603912, 0.08794090151786804, 0.06085582450032234, -0.006585779599845409, 0.017557647079229355, -0.17824573814868927, -0.040765874087810516, 0.07178433239459991, -0.17776136100292206, 0.05835036188364029, 0.0373825877904892, -0.06968372315168381, -0.15366069972515106, -0.03330909088253975, 0.3012038767337799, 0.1459280550479889, -0.1328265368938446, -0.12337552011013031, 0.1995425671339035, -0.15709222853183746, 0.001599146518856287, -0.01902766153216362, -0.08491680771112442, -0.13023465871810913, -0.2768813371658325, 0.1124977096915245, 0.34976470470428467, 0.12643565237522125, -0.2238462269306183, 0.03741714358329773, -0.02590344101190567, 0.08251546323299408, 0.058047689497470856, 0.05550874024629593, -0.12114495038986206, 0.05829712003469467, -0.095741868019104, 0.05195050686597824, 0.1611907035112381, 0.05123674124479294, -0.08938838541507721, 0.14836522936820984, -0.063416987657547, 0.08130182325839996, 0.04979535564780235, 0.055441975593566895, -0.06239279359579086, -0.007355930283665657, -0.09898950159549713, 0.00024143606424331665, 0.14015412330627441, -0.010711354203522205, 0.0021626250818371773, 0.15557341277599335, -0.1464194357395172, 0.20378589630126953, -0.0439629964530468, 0.017140518873929977, 0.03368101269006729, 0.06748145073652267, -0.050923749804496765, -0.10397215932607651, 0.09080085158348083, -0.2602046728134155, 0.2463417798280716, 0.20292508602142334, 0.024515263736248016, 0.18729639053344727, 0.07475022226572037, 0.044780146330595016, 0.0838046595454216, 0.029518820345401764, -0.18802498281002045, -0.09854279458522797, 0.04020087048411369, -0.060710590332746506, 0.07972358167171478, 0.08096200972795486]',\n",
              " 'VKohli': '[-0.1263091266155243, 0.04340400546789169, 0.023434046655893326, -0.07120662927627563, 0.009186604991555214, -0.06098899245262146, 0.014171015471220016, -0.05737503245472908, 0.21169064939022064, -0.01560525968670845, 0.16046909987926483, 0.01057526282966137, -0.23655004799365997, -0.1141243651509285, -0.0077098943293094635, 0.04517379403114319, -0.171858012676239, -0.16125550866127014, -0.007612463086843491, -0.06081291288137436, 0.05898148566484451, 0.05665000528097153, 0.06544264405965805, 0.05404574051499367, -0.2276754081249237, -0.30079320073127747, -0.08593679964542389, -0.20160725712776184, -0.016787642613053322, -0.12621846795082092, 0.017389550805091858, 0.0602085217833519, -0.20891648530960083, -0.033640943467617035, -0.041880469769239426, 0.07495015859603882, 0.04192904755473137, -0.08011965453624725, 0.17292672395706177, 0.021305374801158905, -0.13563041388988495, -0.08952699601650238, -0.06299064308404922, 0.27504003047943115, 0.061069414019584656, -0.028048239648342133, 0.03908860310912132, -0.0333186611533165, 0.10132592171430588, -0.21900968253612518, 0.06812307983636856, 0.16242609918117523, 0.03509804233908653, 0.005353256594389677, 0.043112438172101974, -0.10908780992031097, 0.04105140641331673, 0.07863234728574753, -0.25159013271331787, 0.035969000309705734, 0.04798996075987816, 0.025145025923848152, -0.007591903209686279, -0.03699420019984245, 0.14669573307037354, 0.08300793915987015, -0.09869452565908432, -0.06137630715966225, 0.07688147574663162, -0.13592860102653503, 0.013269761577248573, 0.0737537294626236, -0.116915762424469, -0.20604351162910461, -0.23581598699092865, 0.046197086572647095, 0.33434194326400757, 0.09794296324253082, -0.07845032215118408, 0.057474538683891296, -0.17067749798297882, -0.03872184082865715, 0.011129973456263542, -0.03652806580066681, -0.1358615756034851, 0.14344902336597443, -0.13826343417167664, 0.13930287957191467, 0.17472076416015625, 0.014578589238226414, -0.018822040408849716, 0.1829228550195694, -0.04190172255039215, 0.0024076635017991066, 0.037493474781513214, 0.05727424845099449, -0.07441311329603195, 0.0405716672539711, -0.03170664235949516, 0.08982808142900467, 0.10906581580638885, -0.09731675684452057, -0.007536980323493481, 0.08992686122655869, -0.16958414018154144, 0.0827939435839653, 0.03088030219078064, -0.07974743843078613, -0.03761228173971176, -0.0143341775983572, -0.14611037075519562, -0.07223206013441086, 0.13453024625778198, -0.24222972989082336, 0.13909658789634705, 0.13479083776474, 6.60410150885582e-05, 0.16785946488380432, -0.01792152039706707, 0.03225421532988548, -0.09629686176776886, -0.055184416472911835, -0.14060191810131073, -0.03989066556096077, 0.10566599667072296, 0.05095802620053291, 0.06388768553733826, 0.008595188148319721]'}"
            ]
          },
          "metadata": {},
          "execution_count": 136
        }
      ],
      "metadata": {
        "id": "DYD0XLtta-c0",
        "outputId": "ded892f7-2a92-47ea-d714-b61c2ea8cb12"
      }
    },
    {
      "cell_type": "code",
      "execution_count": null,
      "source": [
        "d = {'a': 100, 'b': 40, 'c': 32}\n",
        "min(d, key=d.get)"
      ],
      "outputs": [
        {
          "output_type": "execute_result",
          "data": {
            "text/plain": [
              "'c'"
            ]
          },
          "metadata": {},
          "execution_count": 115
        }
      ],
      "metadata": {
        "id": "vy1c6aJaa-c1",
        "outputId": "6cd21f0f-0179-487e-8a03-db5e1cc6b223"
      }
    },
    {
      "cell_type": "code",
      "execution_count": null,
      "source": [
        "for key, value in faceDict.items():\n",
        "    # print(key,value)\n",
        "    # results is an array of True/False telling if the unknown face matched anyone in the known_faces array\n",
        "    results = fc.compare_faces([value], a_single_unknown_face_encoding)\n",
        "    faceDist = fc.face_distance([value],  a_single_unknown_face_encoding)\n",
        "    print(key, results, faceDist)\n",
        "    if results[np.argmin(faceDist)]:\n",
        "        print(key)\n",
        "        print('Min Dist: ', faceDist)"
      ],
      "outputs": [
        {
          "output_type": "stream",
          "name": "stdout",
          "text": [
            "Anaji [True] [0.31089965]\n",
            "Anaji\n",
            "Min Dist:  [0.31089965]\n",
            "Elon [False] [0.88096495]\n",
            "Gates [False] [0.87962799]\n",
            "ileana [False] [0.87398557]\n",
            "markZ [False] [0.91798672]\n",
            "saina [False] [0.81126292]\n"
          ]
        }
      ],
      "metadata": {
        "id": "izh0EfB3a-c1",
        "outputId": "d16bc061-24aa-4bb7-b84f-55c42220398c"
      }
    },
    {
      "cell_type": "code",
      "execution_count": null,
      "source": [
        "faceDist"
      ],
      "outputs": [
        {
          "output_type": "execute_result",
          "data": {
            "text/plain": [
              "array([0.38637965])"
            ]
          },
          "metadata": {},
          "execution_count": 37
        }
      ],
      "metadata": {
        "id": "RsytQpGVa-c2",
        "outputId": "36320b4a-a628-4e4b-ff51-1eedf26fc0d7"
      }
    },
    {
      "cell_type": "code",
      "execution_count": null,
      "source": [
        "data0 = r\"Data/KnownFaces/Gates.png\"\n",
        "image = fc.load_image_file(data0)\n",
        "list_of_face_encodings =  fc.face_locations(image)\n",
        "# fc.face_encodings(image)\n",
        "list_of_face_encodings"
      ],
      "outputs": [
        {
          "data": {
            "text/plain": [
              "[]"
            ]
          },
          "metadata": {},
          "output_type": "display_data"
        }
      ],
      "metadata": {
        "id": "nx1PrRnza-c2",
        "outputId": "194b4ac5-2846-4bf8-b192-d571f266d245"
      }
    },
    {
      "cell_type": "code",
      "execution_count": null,
      "source": [
        "np.argmax(faceDist)"
      ],
      "outputs": [
        {
          "output_type": "execute_result",
          "data": {
            "text/plain": [
              "0"
            ]
          },
          "metadata": {},
          "execution_count": 58
        }
      ],
      "metadata": {
        "id": "od_o6F46a-c3",
        "outputId": "e9722955-1901-42c6-f1a7-34160d94717f"
      }
    },
    {
      "cell_type": "code",
      "execution_count": null,
      "source": [
        "results"
      ],
      "outputs": [
        {
          "output_type": "execute_result",
          "data": {
            "text/plain": [
              "[False]"
            ]
          },
          "metadata": {},
          "execution_count": 20
        }
      ],
      "metadata": {
        "id": "Sbg0s_X0a-c3",
        "outputId": "057e719c-bea7-4cfe-b541-0607f765dd3e"
      }
    },
    {
      "cell_type": "code",
      "execution_count": null,
      "source": [
        "# results is an array of True/False telling if the unknown face matched anyone in the known_faces array\n",
        "results = fc.compare_faces([faceDict['Anaji']], a_single_unknown_face_encoding)\n",
        "faceDis = fc.face_distance([faceDict['Anaji']],  a_single_unknown_face_encoding)\n",
        "results"
      ],
      "outputs": [
        {
          "output_type": "execute_result",
          "data": {
            "text/plain": [
              "[True]"
            ]
          },
          "metadata": {},
          "execution_count": 10
        }
      ],
      "metadata": {
        "id": "n5ceVO3Xa-c4",
        "outputId": "72213a31-3893-40c2-aeb8-c2c49ef6a506"
      }
    },
    {
      "cell_type": "code",
      "execution_count": null,
      "source": [
        "data0 = \"Data/a12.png\"\n",
        "image = fc.load_image_file(data0)\n",
        "# Or you could get face encodings for each face in the image:\n",
        "list_of_face_encodings = [fc.face_encodings(image)]\n",
        "# len(list_of_face_encodings)\n",
        "known_face_encodings = list_of_face_encodings\n",
        "# known_face_encodings"
      ],
      "outputs": [],
      "metadata": {
        "id": "GXpnSHe3a-c6"
      }
    },
    {
      "cell_type": "code",
      "execution_count": null,
      "source": [
        "data0 = \"Data/2222.png\"\n",
        "image = fc.load_image_file(data0)\n",
        "# Or you could get face encodings for each face in the image:\n",
        "list_of_face_encodings = fc.face_encodings(image)\n",
        "# len(list_of_face_encodings)\n",
        "a_single_unknown_face_encoding = list_of_face_encodings[0]"
      ],
      "outputs": [],
      "metadata": {
        "id": "6DJz92sja-c6"
      }
    },
    {
      "cell_type": "code",
      "execution_count": null,
      "source": [
        "# results is an array of True/False telling if the unknown face matched anyone in the known_faces array\n",
        "results = fc.compare_faces(known_face_encodings, a_single_unknown_face_encoding)\n",
        "results"
      ],
      "outputs": [
        {
          "output_type": "execute_result",
          "data": {
            "text/plain": [
              "[array([ True,  True,  True,  True,  True,  True,  True,  True,  True,\n",
              "         True,  True,  True,  True,  True,  True,  True,  True,  True,\n",
              "         True,  True,  True,  True,  True,  True,  True,  True,  True,\n",
              "         True,  True,  True,  True,  True,  True,  True,  True,  True,\n",
              "         True,  True,  True,  True,  True,  True,  True,  True,  True,\n",
              "         True,  True,  True,  True,  True,  True,  True,  True,  True,\n",
              "         True,  True,  True,  True,  True,  True,  True,  True,  True,\n",
              "         True,  True,  True,  True,  True,  True,  True,  True,  True,\n",
              "         True,  True,  True,  True,  True,  True,  True,  True,  True,\n",
              "         True,  True,  True,  True,  True,  True,  True,  True,  True,\n",
              "         True,  True,  True,  True,  True,  True,  True,  True,  True,\n",
              "         True,  True,  True,  True,  True,  True,  True,  True,  True,\n",
              "         True,  True,  True,  True,  True,  True,  True,  True,  True,\n",
              "         True,  True,  True,  True,  True,  True,  True,  True,  True,\n",
              "         True,  True])]"
            ]
          },
          "metadata": {},
          "execution_count": 5
        }
      ],
      "metadata": {
        "id": "ey1Fhlwua-c7",
        "outputId": "a64a1417-e1d3-4827-b2b3-2c886457c8c9"
      }
    },
    {
      "cell_type": "code",
      "execution_count": null,
      "source": [
        "\n",
        "# imgTest = face_recognition.load_image_file('AllSavesdImages/Elon-Test.jpg')\n",
        "imgTest = fc.load_image_file('AllSavesdImages/b1.jpg')\n",
        "# imgTest = face_recognition.load_image_file('AllSavesdImages/bgates.jpg')\n",
        "imgTest = cv2.cvtColor(imgTest,cv2.COLOR_BGR2RGB)\n",
        "faceLocTest = fc.face_locations(imgTest)[0]\n",
        "encodeTest = fc.face_encodings(imgTest)[0]\n",
        "cv2.rectangle(imgTest,(faceLocTest[3],faceLocTest[0]),\n",
        "              (faceLocTest[1],faceLocTest[2]),(255,0,255),2)\n",
        "\n",
        "results = fc.compare_faces([encodeTrain],encodeTest)  #True/False\n",
        "faceDis = fc.face_distance([encodeTrain],encodeTest)  # Accuracy\n",
        "# print(results,faceDis)\n",
        "cv2.putText(imgTest,f'{results} {round(faceDis[0],2)}',(50,50),cv2.FONT_HERSHEY_COMPLEX,1,(0,0,255),2)\n",
        "\n",
        "cv2.imshow('Training Image',imgtrain)\n",
        "cv2.imshow('Test Image',imgTest)\n",
        "cv2.waitKey(0)\n",
        "cv2.destroyAllWindows()"
      ],
      "outputs": [],
      "metadata": {
        "id": "q9fUuVO3a-c7"
      }
    },
    {
      "cell_type": "code",
      "execution_count": null,
      "source": [],
      "outputs": [],
      "metadata": {
        "id": "MO2wEvjia-c8"
      }
    }
  ],
  "metadata": {
    "orig_nbformat": 4,
    "language_info": {
      "name": "python",
      "version": "3.8.5",
      "mimetype": "text/x-python",
      "codemirror_mode": {
        "name": "ipython",
        "version": 3
      },
      "pygments_lexer": "ipython3",
      "nbconvert_exporter": "python",
      "file_extension": ".py"
    },
    "kernelspec": {
      "name": "python3",
      "display_name": "Python 3"
    },
    "interpreter": {
      "hash": "361c4d5ade972aba34638e093f48e27e23d4f1e9d45d7e1ce2e55a06c3f91735"
    },
    "colab": {
      "provenance": [],
      "gpuType": "T4"
    },
    "accelerator": "GPU"
  },
  "nbformat": 4,
  "nbformat_minor": 0
}