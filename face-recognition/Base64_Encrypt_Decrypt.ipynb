{
 "cells": [
  {
   "cell_type": "code",
   "execution_count": null,
   "id": "e23bdc71-feb8-49d4-bd98-7d578140dac2",
   "metadata": {},
   "outputs": [],
   "source": [
    "# !pip install cryptography"
   ]
  },
  {
   "cell_type": "code",
   "execution_count": null,
   "id": "02f16320-19fc-48c8-aed5-2946af416888",
   "metadata": {},
   "outputs": [],
   "source": [
    "import glob\n",
    "import time\n",
    "import numpy as np\n",
    "import pandas as pd\n",
    "from pathlib import Path\n",
    "import cv2 as cv\n",
    "from PIL import Image, ImageOps\n",
    "\n",
    "import base64\n",
    "from io import BytesIO\n",
    "import face_recognition as fc\n",
    "# from cryptography.fernet import Fernet"
   ]
  },
  {
   "cell_type": "code",
   "execution_count": null,
   "id": "16d311cf-4d1b-471a-9b9b-f2ef8b5a5eb4",
   "metadata": {},
   "outputs": [],
   "source": [
    "def encode_face_image(path):\n",
    "    img = fc.load_image_file( path   )\n",
    "    face_encoding = []\n",
    "    try:\n",
    "        face_encoding = fc.face_encodings(img)\n",
    "        # enc1 =  face1_encoding.tobytes()\n",
    "        # enc1 =  face1_encoding.tolist()\n",
    "        #print(type(enc1))\n",
    "    except IndexError:\n",
    "        print(\"I wasn't able to locate any faces in at least one of the images. Check the image files. Aborting...\")\n",
    "    return face_encoding"
   ]
  },
  {
   "cell_type": "code",
   "execution_count": null,
   "id": "c661bb1f-cdec-4c31-9b67-7a8b3efb97c1",
   "metadata": {},
   "outputs": [],
   "source": [
    "# ENCODE\n",
    "def encode_to_b64(pil_img):\n",
    "    in_mem_file = BytesIO()\n",
    "    pil_img.save(in_mem_file, format = \"PNG\")\n",
    "    # reset file pointer to start\n",
    "    in_mem_file.seek(0)\n",
    "    img_bytes = in_mem_file.read()\n",
    "\n",
    "    base64_encoded_result_bytes = base64.b64encode(img_bytes)\n",
    "    base64_encoded_result_str = base64_encoded_result_bytes.decode('ascii')\n",
    "\n",
    "    return base64_encoded_result_str\n",
    "\n",
    "# DECODE\n",
    "def decode_to_img(b64_str):\n",
    "    b64_decoded = base64.b64decode(b64_str)\n",
    "    buffer_img = BytesIO(b64_decoded)\n",
    "    pil_img = Image.open(buffer_img)\n",
    "    return pil_img"
   ]
  },
  {
   "cell_type": "code",
   "execution_count": null,
   "id": "37d684ca-7430-4936-a15d-8838a2139ba6",
   "metadata": {},
   "outputs": [],
   "source": [
    "cpath = \"Test_Image_Data1/Abhishek_1.jpg\"\n",
    "pl_img = Image.open(cpath)\n",
    "pl_img = pl_img.convert(\"RGB\")\n",
    "pl_img = ImageOps.exif_transpose(pl_img)"
   ]
  },
  {
   "cell_type": "code",
   "execution_count": null,
   "id": "ec2377ed-a6bb-4156-b891-c87d7063a1b3",
   "metadata": {},
   "outputs": [],
   "source": [
    "pl_img_b64 = encode_to_b64(pl_img)\n",
    "pl_img_b64"
   ]
  },
  {
   "cell_type": "code",
   "execution_count": null,
   "id": "18889df6-b170-4099-b19e-e4955192c6ef",
   "metadata": {},
   "outputs": [],
   "source": [
    "len(pl_img_b64)"
   ]
  },
  {
   "cell_type": "code",
   "execution_count": null,
   "id": "d2a9c7d3",
   "metadata": {},
   "outputs": [],
   "source": [
    "import base64, io, os\n",
    "from PIL import Image\n",
    "import re"
   ]
  },
  {
   "cell_type": "code",
   "execution_count": null,
   "id": "fd87f482",
   "metadata": {},
   "outputs": [],
   "source": [
    "class Base64_Image:\n",
    "\n",
    "    def __init__(self, base64_img):\n",
    "        self.base64_img = base64_img\n",
    "        \n",
    "    def find_extension(self):\n",
    "        sent = self.base64_img\n",
    "        pat = r'^data:image/([A-Za-z]+);base64'\n",
    "        extension = re.match(pat, sent).group(1)\n",
    "        return extension\n",
    "\n",
    "    def get_encoded_str(self):\n",
    "        sent = self.base64_img\n",
    "        key = 'base64,'\n",
    "        add_len = len(key)\n",
    "        sent1 = sent[sent.find(key)+add_len:]\n",
    "        return sent1\n",
    "    \n",
    "    def base64_to_image_save(self, base64_image, output_file_path):\n",
    "        # Decode the base64 image string.\n",
    "        image_data = base64.b64decode(base64_image)\n",
    "        # Create an Image object from the decoded image data.\n",
    "        image = Image.open(io.BytesIO(image_data))\n",
    "        # Save the image to the filesystem.\n",
    "        image.save(output_file_path)\n",
    "        print(f\"Image File saved successfully at {output_file_path}\")\n",
    "        \n",
    "    def convert(self):\n",
    "        test_en = self.base64_img\n",
    "        ext  = self.find_extension()\n",
    "        ts = time.strftime('%d%m%y_%H%M%S', time.localtime())\n",
    "        filename = f\"img_{ts}.{ext}\"\n",
    "        output_file_path = os.path.join(\"Uploads\", filename)\n",
    "        \n",
    "        encoded_str = self.get_encoded_str()\n",
    "        self.base64_to_image_save(encoded_str, output_file_path)\n",
    "        return output_file_path"
   ]
  },
  {
   "cell_type": "code",
   "execution_count": null,
   "id": "8bbdcdd7",
   "metadata": {},
   "outputs": [],
   "source": [
    "en1 = \"data:image/jpeg;base64,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\"\n",
    "\n",
    "\n",
    "obj = Base64_Image(en1)\n",
    "obj.find_extension()"
   ]
  },
  {
   "cell_type": "code",
   "execution_count": null,
   "id": "ca5dba73",
   "metadata": {},
   "outputs": [],
   "source": [
    "obj.convert()"
   ]
  },
  {
   "cell_type": "code",
   "execution_count": null,
   "id": "60a044de",
   "metadata": {},
   "outputs": [],
   "source": [
    "\n",
    "\n",
    "def base64_to_image_save(base64_image, output_file_path):\n",
    "    # Decode the base64 image string.\n",
    "    image_data = base64.b64decode(base64_image)\n",
    "    # Create an Image object from the decoded image data.\n",
    "    image = Image.open(io.BytesIO(image_data))\n",
    "    # Save the image to the filesystem.\n",
    "    image.save(output_file_path)\n",
    "    print(f\"Image File saved successfully at {output_file_path}\")\n",
    "    \n"
   ]
  },
  {
   "cell_type": "code",
   "execution_count": null,
   "id": "6428352c",
   "metadata": {},
   "outputs": [],
   "source": [
    "test_en = \"data:image/jpeg;base64,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\"\n"
   ]
  },
  {
   "cell_type": "code",
   "execution_count": null,
   "id": "b5122608",
   "metadata": {},
   "outputs": [],
   "source": []
  },
  {
   "cell_type": "code",
   "execution_count": null,
   "id": "d21b50b0",
   "metadata": {},
   "outputs": [],
   "source": [
    "ext  = find_extension(test_en)\n",
    "ts = time.strftime('%d%m%y_%H%M%S', time.localtime())\n",
    "filename = f\"img_{ts}.{ext}\"\n",
    "output_file_path = os.path.join(\"Uploads\", filename)\n",
    "encoded_str = get_encoded_str(test_en)"
   ]
  },
  {
   "cell_type": "code",
   "execution_count": null,
   "id": "7fd4f116",
   "metadata": {},
   "outputs": [],
   "source": [
    "base64_to_image_save(encoded_str, output_file_path)"
   ]
  },
  {
   "cell_type": "code",
   "execution_count": null,
   "id": "cadc0852",
   "metadata": {},
   "outputs": [],
   "source": [
    "try:\n",
    "    test_en."
   ]
  },
  {
   "cell_type": "code",
   "execution_count": null,
   "id": "4fb0c735",
   "metadata": {},
   "outputs": [],
   "source": [
    "len(test_en)"
   ]
  },
  {
   "cell_type": "code",
   "execution_count": null,
   "id": "ef95fb07",
   "metadata": {},
   "outputs": [],
   "source": [
    "# Decode the base64 string.\n",
    "binary_data = base64.b64decode(test_en)\n",
    "\n",
    "# Create an Image object from the binary data.\n",
    "image = Image.open(io.BytesIO(binary_data))\n",
    "\n",
    "# Save the image file.\n",
    "image.save(output_file_path)"
   ]
  },
  {
   "cell_type": "code",
   "execution_count": null,
   "id": "53b1a328",
   "metadata": {},
   "outputs": [],
   "source": []
  },
  {
   "cell_type": "code",
   "execution_count": null,
   "id": "3e418c22",
   "metadata": {},
   "outputs": [],
   "source": []
  },
  {
   "cell_type": "code",
   "execution_count": null,
   "id": "9c6ec866",
   "metadata": {},
   "outputs": [],
   "source": [
    "base64_image_string = 'data:image/png;base64,iVBORw0KGgoAAAANSUhEUgAAAAEAAAABCAYAAAAfFcSJAAAAAXNSR0IArs4c6QAAAARnQU1BAACxjwv8YQUAAAAJcEhZcwAADsQAAA7EAZUrDhsAAAANSURBVBhXYzh8+PB/AAffA0nNPuCLAAAAAElFTkSuQmCC'\n",
    "output_file_path = 'output.png'\n",
    "\n",
    "base64_to_image_save(test_en, output_file_path)"
   ]
  },
  {
   "cell_type": "code",
   "execution_count": null,
   "id": "b19a5d61",
   "metadata": {},
   "outputs": [],
   "source": [
    "base64_to_image_save(test_en)"
   ]
  },
  {
   "cell_type": "code",
   "execution_count": null,
   "id": "4126c26d",
   "metadata": {},
   "outputs": [],
   "source": [
    "decode_to_img(test_en)"
   ]
  },
  {
   "cell_type": "code",
   "execution_count": null,
   "id": "2e54634d",
   "metadata": {},
   "outputs": [],
   "source": []
  },
  {
   "cell_type": "code",
   "execution_count": null,
   "id": "e3e13573",
   "metadata": {},
   "outputs": [],
   "source": []
  },
  {
   "cell_type": "code",
   "execution_count": null,
   "id": "b9fd79ae",
   "metadata": {},
   "outputs": [],
   "source": []
  },
  {
   "cell_type": "code",
   "execution_count": null,
   "id": "e1014f05-4613-447e-a58c-bce13c17d032",
   "metadata": {},
   "outputs": [],
   "source": [
    "decode_to_img( d_pl_img_b64 )"
   ]
  },
  {
   "cell_type": "code",
   "execution_count": null,
   "id": "a5f466de-715c-4fc4-8e9a-c5c5892d0e94",
   "metadata": {},
   "outputs": [],
   "source": [
    "decode_to_img(pl_img_b64)"
   ]
  },
  {
   "cell_type": "code",
   "execution_count": null,
   "id": "0cc18280-33b4-471d-8abd-795479c080aa",
   "metadata": {},
   "outputs": [],
   "source": [
    "type(b_pl_img_b64)"
   ]
  },
  {
   "cell_type": "code",
   "execution_count": null,
   "id": "1ab66bbd-045c-49a4-939e-7eef6599cba7",
   "metadata": {},
   "outputs": [],
   "source": [
    "b_pl_img_b64 = str.encode(pl_img_b64)\n",
    "b_pl_img_b64"
   ]
  },
  {
   "cell_type": "code",
   "execution_count": null,
   "id": "f101ed46-9ef0-48bc-969a-eabedc9c8a76",
   "metadata": {},
   "outputs": [],
   "source": [
    "from cryptography.fernet import Fernet\n",
    "# Put this somewhere safe!\n",
    "key = Fernet.generate_key()\n",
    "key"
   ]
  },
  {
   "cell_type": "code",
   "execution_count": null,
   "id": "32fdcb24-ab2c-477f-8a88-3b52ab08102b",
   "metadata": {},
   "outputs": [],
   "source": [
    "f = Fernet(key)\n",
    "token = f.encrypt(b\"A really secret message. Not for prying eyes.\")\n",
    "token"
   ]
  },
  {
   "cell_type": "code",
   "execution_count": null,
   "id": "2345caff-c16a-41b1-9c08-c847a9dac49e",
   "metadata": {},
   "outputs": [],
   "source": [
    "tk1 = f.encrypt(b_pl_img_b64)"
   ]
  },
  {
   "cell_type": "code",
   "execution_count": null,
   "id": "15cced21-a54e-40b9-a462-4ad0d6a15f2b",
   "metadata": {},
   "outputs": [],
   "source": [
    "len(b_pl_img_b64)"
   ]
  },
  {
   "cell_type": "code",
   "execution_count": null,
   "id": "b675ddb1-6af1-49aa-9257-5dc88665cadd",
   "metadata": {},
   "outputs": [],
   "source": [
    "# type(tk1)\n",
    "len(tk1)\n",
    "\n",
    "my_decoded_str = d_pl_img_b64.decode()\n",
    "print(type(my_decoded_str)) # ensure it is string representation\n",
    "len(my_decoded_str)"
   ]
  },
  {
   "cell_type": "code",
   "execution_count": null,
   "id": "c812ab0b-a1e8-4632-84fc-24d3e2f2b815",
   "metadata": {},
   "outputs": [],
   "source": [
    "d_pl_img_b64 = f.decrypt(tk1)"
   ]
  },
  {
   "cell_type": "code",
   "execution_count": null,
   "id": "68584f5c-492c-472f-a635-fdd210bfa795",
   "metadata": {},
   "outputs": [],
   "source": [
    "f.decrypt(token)"
   ]
  },
  {
   "cell_type": "code",
   "execution_count": null,
   "id": "72eeeca6-30c7-4097-9527-08e57f252fc5",
   "metadata": {},
   "outputs": [],
   "source": [
    "import crypt"
   ]
  },
  {
   "cell_type": "code",
   "execution_count": null,
   "id": "9090d6d1-038a-46b0-81a0-659a50ed6d02",
   "metadata": {},
   "outputs": [],
   "source": []
  }
 ],
 "metadata": {
  "kernelspec": {
   "display_name": ".env",
   "language": "python",
   "name": ".env"
  },
  "language_info": {
   "codemirror_mode": {
    "name": "ipython",
    "version": 3
   },
   "file_extension": ".py",
   "mimetype": "text/x-python",
   "name": "python",
   "nbconvert_exporter": "python",
   "pygments_lexer": "ipython3",
   "version": "3.9.10"
  }
 },
 "nbformat": 4,
 "nbformat_minor": 5
}
